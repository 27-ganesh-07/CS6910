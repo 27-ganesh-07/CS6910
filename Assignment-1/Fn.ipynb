{
  "cells": [
    {
      "cell_type": "markdown",
      "metadata": {
        "id": "view-in-github",
        "colab_type": "text"
      },
      "source": [
        "<a href=\"https://colab.research.google.com/github/Pratap8810/CS6910/blob/main/Assignment-1/Fn.ipynb\" target=\"_parent\"><img src=\"https://colab.research.google.com/assets/colab-badge.svg\" alt=\"Open In Colab\"/></a>"
      ]
    },
    {
      "cell_type": "code",
      "execution_count": null,
      "metadata": {
        "colab": {
          "base_uri": "https://localhost:8080/"
        },
        "id": "N62vzce_wCSi",
        "outputId": "38ffbbc3-4768-4686-b88b-eff6482b4b04"
      },
      "outputs": [
        {
          "name": "stdout",
          "output_type": "stream",
          "text": [
            "Collecting wandb\n",
            "  Downloading wandb-0.12.10-py2.py3-none-any.whl (1.7 MB)\n",
            "\u001b[K     |████████████████████████████████| 1.7 MB 5.0 MB/s \n",
            "\u001b[?25hCollecting sentry-sdk>=1.0.0\n",
            "  Downloading sentry_sdk-1.5.4-py2.py3-none-any.whl (143 kB)\n",
            "\u001b[K     |████████████████████████████████| 143 kB 59.1 MB/s \n",
            "\u001b[?25hCollecting pathtools\n",
            "  Downloading pathtools-0.1.2.tar.gz (11 kB)\n",
            "Collecting GitPython>=1.0.0\n",
            "  Downloading GitPython-3.1.26-py3-none-any.whl (180 kB)\n",
            "\u001b[K     |████████████████████████████████| 180 kB 59.3 MB/s \n",
            "\u001b[?25hRequirement already satisfied: python-dateutil>=2.6.1 in /usr/local/lib/python3.7/dist-packages (from wandb) (2.8.2)\n",
            "Requirement already satisfied: promise<3,>=2.0 in /usr/local/lib/python3.7/dist-packages (from wandb) (2.3)\n",
            "Requirement already satisfied: protobuf>=3.12.0 in /usr/local/lib/python3.7/dist-packages (from wandb) (3.17.3)\n",
            "Requirement already satisfied: psutil>=5.0.0 in /usr/local/lib/python3.7/dist-packages (from wandb) (5.4.8)\n",
            "Collecting shortuuid>=0.5.0\n",
            "  Downloading shortuuid-1.0.8-py3-none-any.whl (9.5 kB)\n",
            "Requirement already satisfied: requests<3,>=2.0.0 in /usr/local/lib/python3.7/dist-packages (from wandb) (2.23.0)\n",
            "Requirement already satisfied: PyYAML in /usr/local/lib/python3.7/dist-packages (from wandb) (3.13)\n",
            "Collecting yaspin>=1.0.0\n",
            "  Downloading yaspin-2.1.0-py3-none-any.whl (18 kB)\n",
            "Requirement already satisfied: Click!=8.0.0,>=7.0 in /usr/local/lib/python3.7/dist-packages (from wandb) (7.1.2)\n",
            "Requirement already satisfied: six>=1.13.0 in /usr/local/lib/python3.7/dist-packages (from wandb) (1.15.0)\n",
            "Collecting docker-pycreds>=0.4.0\n",
            "  Downloading docker_pycreds-0.4.0-py2.py3-none-any.whl (9.0 kB)\n",
            "Requirement already satisfied: typing-extensions>=3.7.4.3 in /usr/local/lib/python3.7/dist-packages (from GitPython>=1.0.0->wandb) (3.10.0.2)\n",
            "Collecting gitdb<5,>=4.0.1\n",
            "  Downloading gitdb-4.0.9-py3-none-any.whl (63 kB)\n",
            "\u001b[K     |████████████████████████████████| 63 kB 2.0 MB/s \n",
            "\u001b[?25hCollecting smmap<6,>=3.0.1\n",
            "  Downloading smmap-5.0.0-py3-none-any.whl (24 kB)\n",
            "Requirement already satisfied: idna<3,>=2.5 in /usr/local/lib/python3.7/dist-packages (from requests<3,>=2.0.0->wandb) (2.10)\n",
            "Requirement already satisfied: certifi>=2017.4.17 in /usr/local/lib/python3.7/dist-packages (from requests<3,>=2.0.0->wandb) (2021.10.8)\n",
            "Requirement already satisfied: chardet<4,>=3.0.2 in /usr/local/lib/python3.7/dist-packages (from requests<3,>=2.0.0->wandb) (3.0.4)\n",
            "Requirement already satisfied: urllib3!=1.25.0,!=1.25.1,<1.26,>=1.21.1 in /usr/local/lib/python3.7/dist-packages (from requests<3,>=2.0.0->wandb) (1.24.3)\n",
            "Requirement already satisfied: termcolor<2.0.0,>=1.1.0 in /usr/local/lib/python3.7/dist-packages (from yaspin>=1.0.0->wandb) (1.1.0)\n",
            "Building wheels for collected packages: pathtools\n",
            "  Building wheel for pathtools (setup.py) ... \u001b[?25l\u001b[?25hdone\n",
            "  Created wheel for pathtools: filename=pathtools-0.1.2-py3-none-any.whl size=8806 sha256=939755534b449800e8f48a83489185d98791aa06e4179bfef2f2cd061ddf93ef\n",
            "  Stored in directory: /root/.cache/pip/wheels/3e/31/09/fa59cef12cdcfecc627b3d24273699f390e71828921b2cbba2\n",
            "Successfully built pathtools\n",
            "Installing collected packages: smmap, gitdb, yaspin, shortuuid, sentry-sdk, pathtools, GitPython, docker-pycreds, wandb\n",
            "Successfully installed GitPython-3.1.26 docker-pycreds-0.4.0 gitdb-4.0.9 pathtools-0.1.2 sentry-sdk-1.5.4 shortuuid-1.0.8 smmap-5.0.0 wandb-0.12.10 yaspin-2.1.0\n"
          ]
        }
      ],
      "source": [
        "!pip install wandb"
      ]
    },
    {
      "cell_type": "code",
      "execution_count": null,
      "metadata": {
        "id": "WqKn-wJ31h-k"
      },
      "outputs": [],
      "source": [
        "from keras.datasets import fashion_mnist\n",
        "import numpy as np\n",
        "from  matplotlib import pyplot as plt\n",
        "import time\n",
        "import math\n",
        "#import wandb"
      ]
    },
    {
      "cell_type": "code",
      "execution_count": null,
      "metadata": {
        "colab": {
          "base_uri": "https://localhost:8080/",
          "height": 69
        },
        "id": "Th9vqcQLxrfj",
        "outputId": "3c20cb68-621a-4128-8a10-ac4b58e436a4"
      },
      "outputs": [
        {
          "data": {
            "application/javascript": [
              "\n",
              "        window._wandbApiKey = new Promise((resolve, reject) => {\n",
              "            function loadScript(url) {\n",
              "            return new Promise(function(resolve, reject) {\n",
              "                let newScript = document.createElement(\"script\");\n",
              "                newScript.onerror = reject;\n",
              "                newScript.onload = resolve;\n",
              "                document.body.appendChild(newScript);\n",
              "                newScript.src = url;\n",
              "            });\n",
              "            }\n",
              "            loadScript(\"https://cdn.jsdelivr.net/npm/postmate/build/postmate.min.js\").then(() => {\n",
              "            const iframe = document.createElement('iframe')\n",
              "            iframe.style.cssText = \"width:0;height:0;border:none\"\n",
              "            document.body.appendChild(iframe)\n",
              "            const handshake = new Postmate({\n",
              "                container: iframe,\n",
              "                url: 'https://wandb.ai/authorize'\n",
              "            });\n",
              "            const timeout = setTimeout(() => reject(\"Couldn't auto authenticate\"), 5000)\n",
              "            handshake.then(function(child) {\n",
              "                child.on('authorize', data => {\n",
              "                    clearTimeout(timeout)\n",
              "                    resolve(data)\n",
              "                });\n",
              "            });\n",
              "            })\n",
              "        });\n",
              "    "
            ],
            "text/plain": [
              "<IPython.core.display.Javascript object>"
            ]
          },
          "metadata": {},
          "output_type": "display_data"
        },
        {
          "name": "stderr",
          "output_type": "stream",
          "text": [
            "\u001b[34m\u001b[1mwandb\u001b[0m: Appending key for api.wandb.ai to your netrc file: /root/.netrc\n"
          ]
        },
        {
          "data": {
            "text/plain": [
              "True"
            ]
          },
          "execution_count": 35,
          "metadata": {},
          "output_type": "execute_result"
        }
      ],
      "source": [
        "wandb.login()"
      ]
    },
    {
      "cell_type": "code",
      "execution_count": null,
      "metadata": {
        "colab": {
          "base_uri": "https://localhost:8080/",
          "height": 73
        },
        "id": "Z-VRfBFnQiiy",
        "outputId": "bb37a4be-fa93-43ea-d9a4-de15bb025f0e"
      },
      "outputs": [
        {
          "name": "stderr",
          "output_type": "stream",
          "text": [
            "\u001b[34m\u001b[1mwandb\u001b[0m: Currently logged in as: \u001b[33mpratap101\u001b[0m (use `wandb login --relogin` to force relogin)\n"
          ]
        },
        {
          "data": {
            "text/html": [
              "\n",
              "                    Syncing run <strong><a href=\"https://wandb.ai/pratap101/assignment1/runs/1jp5btqb\" target=\"_blank\">stilted-capybara-4</a></strong> to <a href=\"https://wandb.ai/pratap101/assignment1\" target=\"_blank\">Weights & Biases</a> (<a href=\"https://docs.wandb.com/integrations/jupyter.html\" target=\"_blank\">docs</a>).<br/>\n",
              "\n",
              "                "
            ],
            "text/plain": [
              "<IPython.core.display.HTML object>"
            ]
          },
          "metadata": {},
          "output_type": "display_data"
        },
        {
          "data": {
            "text/html": [
              "<button onClick=\"this.nextSibling.style.display='block';this.style.display='none';\">Display W&B run</button><iframe src=\"https://wandb.ai/pratap101/assignment1/runs/1jp5btqb?jupyter=true\" style=\"border:none;width:100%;height:420px;display:none;\"></iframe>"
            ],
            "text/plain": [
              "<wandb.sdk.wandb_run.Run at 0x7f2b43616510>"
            ]
          },
          "execution_count": 36,
          "metadata": {},
          "output_type": "execute_result"
        }
      ],
      "source": [
        "wandb.init(project=\"assignment1\")"
      ]
    },
    {
      "cell_type": "code",
      "execution_count": null,
      "metadata": {
        "id": "zcWfbZwkcK_k"
      },
      "outputs": [],
      "source": [
        ""
      ]
    },
    {
      "cell_type": "code",
      "execution_count": null,
      "metadata": {
        "colab": {
          "base_uri": "https://localhost:8080/"
        },
        "id": "ip5PEU6xkaCQ",
        "outputId": "3ba15880-9d03-4166-d987-57a82f79e668"
      },
      "outputs": [
        {
          "name": "stdout",
          "output_type": "stream",
          "text": [
            "Downloading data from https://storage.googleapis.com/tensorflow/tf-keras-datasets/train-labels-idx1-ubyte.gz\n",
            "32768/29515 [=================================] - 0s 0us/step\n",
            "40960/29515 [=========================================] - 0s 0us/step\n",
            "Downloading data from https://storage.googleapis.com/tensorflow/tf-keras-datasets/train-images-idx3-ubyte.gz\n",
            "26427392/26421880 [==============================] - 0s 0us/step\n",
            "26435584/26421880 [==============================] - 0s 0us/step\n",
            "Downloading data from https://storage.googleapis.com/tensorflow/tf-keras-datasets/t10k-labels-idx1-ubyte.gz\n",
            "16384/5148 [===============================================================================================] - 0s 0us/step\n",
            "Downloading data from https://storage.googleapis.com/tensorflow/tf-keras-datasets/t10k-images-idx3-ubyte.gz\n",
            "4423680/4422102 [==============================] - 0s 0us/step\n",
            "4431872/4422102 [==============================] - 0s 0us/step\n"
          ]
        }
      ],
      "source": [
        "((xtrain, ytrain), (xtest, ytest)) = fashion_mnist.load_data()\n",
        "items=[\"T-shirt/top\", \"Trouser\",\"Pullover\", \"Dress\", \"Coat\", \"Sandal\", \"Shirt\", \"Sneaker\", \"Bag\",\"Ankle boot\"]"
      ]
    },
    {
      "cell_type": "code",
      "execution_count": null,
      "metadata": {
        "id": "S89U_uod64vO"
      },
      "outputs": [],
      "source": [
        ""
      ]
    },
    {
      "cell_type": "code",
      "execution_count": null,
      "metadata": {
        "colab": {
          "base_uri": "https://localhost:8080/",
          "height": 240
        },
        "id": "BYISaPr33Qt_",
        "outputId": "b67ec1fe-56cd-4d81-fa95-e837807a284d"
      },
      "outputs": [
        {
          "data": {
            "image/png": "[encoded data removed]",
            "text/plain": [
              "<Figure size 432x288 with 10 Axes>"
            ]
          },
          "metadata": {},
          "output_type": "display_data"
        }
      ],
      "source": [
        "ig=[]\n",
        "for i in range(10):\n",
        "  for j in range(len(ytrain)):\n",
        "    if ytrain[j]==i:\n",
        "      ig.append(xtrain[j])\n",
        "      break;\n",
        "\n",
        "for i in range(len(ig)):\n",
        "  plt.subplot(2,5,i+1)\n",
        "  plt.imshow(ig[i])\n",
        "  plt.title(items[i])\n",
        "#wandb.log({\"imagess\":[wandb.Image(img,caption=item) for img,item in zip(ig,items)]})\n",
        "# print(items[i])\n",
        "#plt.show()\n",
        "# wandb.finish()"
      ]
    },
    {
      "cell_type": "code",
      "execution_count": null,
      "metadata": {
        "id": "mprdj6c-1cAc"
      },
      "outputs": [],
      "source": [
        "ftrx=np.zeros((60000,784))\n",
        "ftry=np.zeros((60000,10))\n",
        "ftex=np.zeros((10000,784))\n",
        "ftey=np.zeros((10000,10))"
      ]
    },
    {
      "cell_type": "code",
      "execution_count": null,
      "metadata": {
        "id": "7RizQy2I1ZlY"
      },
      "outputs": [],
      "source": [
        "for i in range(len(xtrain)):\n",
        "  ftrx[i]=xtrain[i].flatten();\n",
        "  ftrx[i]=ftrx[i]/255\n",
        "  ftry[i][ytrain[i]]=1\n",
        "for i in range(len(xtest)):\n",
        "  ftex[i]=xtest[i].flatten();\n",
        "  ftex[i]=ftex[i]/255\n",
        "  ftey[i][ytest[i]]=1"
      ]
    },
    {
      "cell_type": "code",
      "execution_count": null,
      "metadata": {
        "colab": {
          "base_uri": "https://localhost:8080/"
        },
        "id": "QtyKJK1WeDFx",
        "outputId": "80262989-318d-4b3e-f7fa-9ac6a6ebf9f5"
      },
      "outputs": [
        {
          "data": {
            "text/plain": [
              "array([0., 1., 0., 0., 0., 0., 0., 0., 0., 0.])"
            ]
          },
          "execution_count": 82,
          "metadata": {},
          "output_type": "execute_result"
        }
      ],
      "source": [
        "ftey[1]"
      ]
    },
    {
      "cell_type": "code",
      "execution_count": null,
      "metadata": {
        "colab": {
          "base_uri": "https://localhost:8080/"
        },
        "id": "1gYtjjkYNXKD",
        "outputId": "7af67cc8-1ceb-4318-9627-79c90c05d7eb"
      },
      "outputs": [
        {
          "data": {
            "text/plain": [
              "0"
            ]
          },
          "execution_count": 72,
          "metadata": {},
          "output_type": "execute_result"
        }
      ],
      "source": [
        "#xtrain = xtrain.reshape(60000, 784)/256\n",
        "#xtest = xtest.reshape(10000, 784)/256\n",
        "a=np.zeros(10)\n",
        "a=[2,1,0,0,0]\n",
        "np.argmax(a)"
      ]
    },
    {
      "cell_type": "code",
      "execution_count": null,
      "metadata": {
        "colab": {
          "base_uri": "https://localhost:8080/",
          "height": 257
        },
        "id": "s4nQLXJAcMUg",
        "outputId": "e7ad4936-b9f5-4281-90e6-8a967fd88d18"
      },
      "outputs": [
        {
          "name": "stdout",
          "output_type": "stream",
          "text": [
            "10\n"
          ]
        },
        {
          "data": {
            "image/png": "[encoded data removed]",
            "text/plain": [
              "<Figure size 432x288 with 10 Axes>"
            ]
          },
          "metadata": {},
          "output_type": "display_data"
        }
      ],
      "source": [
        "uniqueData={}\n",
        "for i in range(len(xtrain)):\n",
        "  label=items[np.argmax(ftry[i])]\n",
        "  if label not in uniqueData:\n",
        "    uniqueData[label]=xtrain[i]\n",
        "number=0\n",
        "print(len(uniqueData))\n",
        "for i in uniqueData:\n",
        "    plt.subplot(2,5,number+1)\n",
        "    plt.imshow(uniqueData[i])\n",
        "    plt.title(i)\n",
        "    number+=1"
      ]
    },
    {
      "cell_type": "code",
      "execution_count": null,
      "metadata": {
        "id": "6GwY6hpvr-Pk"
      },
      "outputs": [],
      "source": [
        "def sigmoid(x):\n",
        "  return np.where(x>=0, 1/(1+np.exp(-x)), np.exp(x)/(1+np.exp(x)))\n",
        "\n",
        "def grad_sigmoid(z):\n",
        "  d=sigmoid(z)\n",
        "  return d*(1-d)\n",
        "\n",
        "def softmax(z):\n",
        "  mx=np.max(z)\n",
        "  z=z-mx\n",
        "  out=np.exp(z)/np.sum(np.exp(z)+1e-9)\n",
        "  return out\n",
        "\n",
        "def grad_softmax(yh,ty):\n",
        "  return yh-ty\n",
        "\n",
        "def Relu(x):\n",
        "    return np.maximum(0, x)\n",
        "\n",
        "def grad_Relu(x):\n",
        "    return [1 if xi>0 else 0 for xi in x]\n",
        "\n",
        "def Tanh(Z):\n",
        "    mx=np.max(Z)\n",
        "    #numr = np.exp(x-mx) - np.exp(-x-mx)\n",
        "    #denom=np.exp(x-mx) + np.exp(-x-mx)\n",
        "    #mn=np.min(Z)\n",
        "    # if mn<0:\n",
        "    #   a=np.exp(Z-mx+mn)\n",
        "    #   b=np.exp(-Z-mx+mn)\n",
        "      \n",
        "    #   #return (a-b+1e-9)/(a+b+1e-8)\n",
        "    return np.array([((np.exp(x-mx) - np.exp(-x-mx))/((np.exp(x-mx) + np.exp(-x-mx)))) for x in Z])\n",
        "\n",
        "def grad_Tanh(x):\n",
        "    return 1-Tanh(x)**2\n",
        "\n",
        "def InitParams(x,init):\n",
        "    weights=[]\n",
        "    baises=[]\n",
        "    if(init=='random'):\n",
        "      weights.append((np.random.randn(x[0],784)))\n",
        "      baises.append((np.random.randn(x[0])))\n",
        "      l=len(x)-1\n",
        "      for i in range(l):\n",
        "          weights.append(0.1*(np.random.randn(x[i+1],x[i])))\n",
        "          baises.append(0.1*(np.random.randn(x[i+1])))\n",
        "      weights.append(0.1*(np.random.randn(10,x[-1])))\n",
        "      baises.append(0.1*(np.random.randn(10)))\n",
        "    else:\n",
        "      weights.append(np.random.randn(x[0], 784)*np.sqrt(2./(x[0] + 784)))\n",
        "      baises.append(np.zeros(x[0]))\n",
        "      l=len(x)-1\n",
        "      for i in range(l):\n",
        "          weights.append(np.random.randn(x[i], x[i-1])*np.sqrt(2./(x[i] + x[i-1])))\n",
        "          baises.append(np.zeros(x[i+1]))\n",
        "      weights.append(np.sqrt(2./(10 + x[-1]))*(np.random.randn(10,x[-1])))\n",
        "      baises.append((np.zeros(10)))\n",
        "\n",
        "\n",
        "    return weights,baises\n",
        "\n",
        "def Feed_Frwd_Nw1(xTr,Weighs,Bais,activation,loss):\n",
        "  a_i=[]\n",
        "  h_i=[]\n",
        "  output=np.arange(10,dtype='float64')\n",
        "  a_i.append(np.dot(Weighs[0],xTr)+Bais[0])       \n",
        "  if (activation=='sig'):\n",
        "    h_i.append(sigmoid(a_i[0]))\n",
        "  elif (activation=='tanh'):\n",
        "    h_i.append(Tanh(a_i[0]))\n",
        "  elif (activation=='relu'):\n",
        "    h_i.append(Relu(a_i[0]))\n",
        "  for i in range(1,len(Weighs)-1):\n",
        "    a_i.append((np.dot(Weighs[i],h_i[i-1])+Bais[i]))\n",
        "    if (activation=='sig'):\n",
        "      h_i.append(sigmoid(a_i[i]))\n",
        "    elif (activation=='tanh'):\n",
        "      h_i.append(Tanh(a_i[i]))\n",
        "    elif (activation=='relu'):\n",
        "      h_i.append(Relu(a_i[i]))\n",
        "  a_i.append(np.dot(Weighs[-1],h_i[-1])+Bais[-1])\n",
        "  if (loss=='ce'):\n",
        "    h_i.append(softmax(a_i[-1]))\n",
        "  elif (loss=='mse'):\n",
        "    h_i.append(sigmoid(a_i[-1]))\n",
        "  yp=h_i[-1]\n",
        "  return yp,a_i,h_i\n",
        "\n",
        "def initgrads(N,Nunits):\n",
        "  dh,da,dw,db=[],[],[],[]\n",
        "  dw.append(np.zeros((Nunits[0],784)))\n",
        "  db.append(np.zeros(Nunits[0]))\n",
        "  da.append(np.zeros(Nunits[0]))\n",
        "  dh.append(np.zeros(Nunits[0]))\n",
        "  for i in range(1,N):\n",
        "    dw.append(np.zeros((Nunits[i],Nunits[i-1])))\n",
        "    db.append(np.zeros(Nunits[i]))\n",
        "    da.append(np.zeros(Nunits[i]))\n",
        "    dh.append(np.zeros(Nunits[i]))\n",
        "  dw.append(np.zeros((10,Nunits[-1])))\n",
        "  db.append(np.zeros(10))\n",
        "  da.append(np.zeros(10))\n",
        "  dh.append(np.zeros(10))\n",
        "  return dw,db,da,dh\n",
        "\n",
        "def Back_Prop(ip,ypr,ty,a_i,h_i,W,B,N,nrl,activation,Loss):\n",
        "  k=len(ypr)\n",
        "  dw,db,da,dh=initgrads(N,nrl)\n",
        "  if (Loss==\"ce\"):\n",
        "    dh[-1]=-(ty/ypr)\n",
        "    da[-1]=ypr-ty\n",
        "  elif (Loss==\"mse\"):\n",
        "    dh[-1]=2*(ypr-ty)\n",
        "    da[-1]=dh[-1]*grad_sigmoid(ypr)\n",
        "\n",
        "  db[-1]=da[-1] \n",
        "  dw[-1]=np.dot((da[-1][:,np.newaxis]),(h_i[-2][:,np.newaxis]).T)\n",
        " \n",
        "  for i in range(N-1,-1,-1):\n",
        "    dh[i]=np.squeeze(np.dot(W[i+1].T,da[i+1]))\n",
        "\n",
        "    if (activation=='sig'):\n",
        "      da[i]=dh[i]*grad_sigmoid(a_i[i])\n",
        "    elif (activation=='tanh'):\n",
        "      da[i]=dh[i]*grad_Tanh(a_i[i])\n",
        "    elif (activation=='relu'):\n",
        "      da[i]=dh[i]*grad_Relu(a_i[i])\n",
        "    db[i]=np.copy(da[i])\n",
        "    if (i==0):\n",
        "      dw[i]=np.dot(da[i][:,np.newaxis],ip[:,np.newaxis].T)\n",
        "    else:\n",
        "      dw[i]=np.dot(da[i][:,np.newaxis],h_i[i-1][:,np.newaxis].T)\n",
        "  return dw,db,da,dh\n",
        "\n",
        "def gradDecent_v3(ftrx,ftry,init,wd,eta,N,nrl,activation,Ls_fun,epochs,batchsize):\n",
        "  W,B=InitParams(nrl,init)\n",
        "  z1,z2=W,B\n",
        "  while(epochs>0):\n",
        "    start = time.time()\n",
        "    epochs-=1\n",
        "    loss=0\n",
        "    uw,ub,_,_=initgrads(N,nrl)\n",
        "    count=0\n",
        "    for i in range(len(ftrx[:1000])):\n",
        "      pred_y,ai,hi=Feed_Frwd_Nw1(ftrx[i],W,B,activation,Ls_fun)\n",
        "      gw,gb,ga,gh=Back_Prop(ftrx[i],pred_y,ftry[i],ai,hi,W,B,N,nrl,activation,Ls_fun)\n",
        "      # print(gw[0])\n",
        "      loss=loss+loss_cal(pred_y,ftry[i],Ls_fun)\n",
        "      for j in range(len(gw)):\n",
        "        uw[j]=np.add(uw[j],gw[j])\n",
        "        ub[j]=np.add(ub[j],gb[j])\n",
        "      if((i-1)%batchsize==0):\n",
        "        for j in range(len(gw)):\n",
        "          uw[j]/=batchsize\n",
        "          ub[j]/=batchsize\n",
        "        for k in range(len(gw)):\n",
        "          z1[k],z2[k]=W[k],B[k]\n",
        "          W[k]=(1-wd*eta)*W[k]-eta*uw[k]\n",
        "          B[k]=(1-wd*eta)*B[k]-eta*ub[k]\n",
        "          # print(np.array_equal(z1[k],W[k]),np.array_equal(z2[k],B[k]))\n",
        "        acc=accuracy(W,B)\n",
        "        testloss=val_loss(activation,Ls_fun)\n",
        "        loss/=batchsize\n",
        "        count/=batchsize\n",
        "        wandb.log({\"val_loss\":loss/batchsize,\"val_accuracy\":count/batchsize,\"loss\":testloss,\"Accuray\":acc,\"epochs\":epochs})\n",
        "        count=0\n",
        "      # print(np.array_equal(W[k],z1),np.array_equal(B[k],z2))    \n",
        "    end = time.time()  \n",
        "    print(\"epochs   :\",epochs,\"   val_loss   :\",loss/1000,\"  val_acc:\",count,\"loss:\",testloss,\"Accuracy:\",acc,\"    time:\",math.ceil(end-start))\n",
        "    \n",
        "  return hi,W,B\n",
        "\n",
        "\n",
        "\n"
      ]
    },
    {
      "cell_type": "code",
      "execution_count": null,
      "metadata": {
        "id": "53YBDPOve82Y"
      },
      "outputs": [],
      "source": [
        "def gradDecent_v2(ftrx,ftry,init,wd,eta,N,nrl,activation,Ls_fun,epochs,batchsize):\n",
        "  W,B=InitParams(nrl,init)\n",
        "  z1,z2=W,B\n",
        "  e=0\n",
        "  while(epochs>0):\n",
        "    e+=1\n",
        "    start = time.time()\n",
        "    epochs-=1\n",
        "    loss=0\n",
        "    LOSS=0\n",
        "    uw,ub,_,_=initgrads(N,nrl)\n",
        "    acc1=0\n",
        "    count=0\n",
        "    for i in range(len(ftrx[6000:])):\n",
        "      pred_y,ai,hi=Feed_Frwd_Nw1(ftrx[i],W,B,activation,Ls_fun)\n",
        "      gw,gb,ga,gh=Back_Prop(ftrx[i],pred_y,ftry[i],ai,hi,W,B,N,nrl,activation,Ls_fun)\n",
        "      # print(gw[0])\n",
        "      l=loss_cal(pred_y,ftry[i],Ls_fun)\n",
        "      LOSS+=l\n",
        "      acc1+=accr(W,B,i,pred_y)\n",
        "      for j in range(len(gw)):\n",
        "        uw[j]=np.add(uw[j],gw[j])\n",
        "        ub[j]=np.add(ub[j],gb[j])\n",
        "      if((i+1)%batchsize==0):\n",
        "        # for j in range(len(gw)):\n",
        "        #   uw[j]/=batchsize\n",
        "        #   ub[j]/=batchsize\n",
        "        #print(uw)\n",
        "        for k in range(len(gw)):\n",
        "          z1[k],z2[k]=W[k],B[k]\n",
        "          W[k]=np.subtract(W[k],eta*uw[k])\n",
        "          B[k]=np.subtract(B[k],eta*ub[k])\n",
        "          uw[k]=np.subtract(uw[k],uw[k])\n",
        "          ub[k]=np.subtract(ub[k],ub[k])\n",
        "          # print(np.array_equal(z1[k],W[k]),np.array_equal(z2[k],B[k]))\n",
        "  \n",
        "        #wandb.log({\"val_loss\":loss/batchsize,\"val_accuracy\":count/batchsize,\"loss\":testloss,\"Accuray\":acc,\"epochs\":epochs})     \n",
        "        count=0\n",
        "        loss=0\n",
        "        #uw,ub,_,_=initgrads(N,nrl)\n",
        "      # print(np.array_equal(W[k],z1),np.array_equal(B[k],z2))    \n",
        "    end = time.time() \n",
        "    testloss=val_loss(W,B,activation,Ls_fun)\n",
        "    testacc=accuracy(W,B,activation,Ls_fun)\n",
        "    #wandb.log({\"epoch\":e,\"Train_loss\":LOSS/len(ftrx),\"Train_acc\":acc1/len(ftrx),\"val_loss\":testloss,\"val_Accuracy\":testacc})\n",
        "    print(\"epochs :\",e,\"train_loss :\",LOSS/len(ftrx),\"  Train_acc:\",acc1/len(ftrx),\"val_loss:\",testloss,\"val_Accuracy:\",testacc,\"    time:\",math.ceil(end-start))\n",
        "  #test_acc(W,B,activation,Ls_fun)  \n",
        "  return hi,W,B"
      ]
    },
    {
      "cell_type": "code",
      "execution_count": null,
      "metadata": {
        "colab": {
          "base_uri": "https://localhost:8080/",
          "height": 311
        },
        "id": "8hzLFyJKvZAy",
        "outputId": "31b058c7-780d-41be-bb73-a578d948f64d"
      },
      "outputs": [
        {
          "ename": "AttributeError",
          "evalue": "ignored",
          "output_type": "error",
          "traceback": [
            "\u001b[0;31m---------------------------------------------------------------------------\u001b[0m",
            "\u001b[0;31mAttributeError\u001b[0m                            Traceback (most recent call last)",
            "\u001b[0;32m<ipython-input-27-a2bce46dc485>\u001b[0m in \u001b[0;36m<module>\u001b[0;34m()\u001b[0m\n\u001b[0;32m----> 1\u001b[0;31m \u001b[0mwandb\u001b[0m\u001b[0;34m.\u001b[0m\u001b[0mfinish\u001b[0m\u001b[0;34m(\u001b[0m\u001b[0;34m)\u001b[0m\u001b[0;34m\u001b[0m\u001b[0;34m\u001b[0m\u001b[0m\n\u001b[0m",
            "\u001b[0;32m/usr/local/lib/python3.7/dist-packages/wandb/sdk/wandb_run.py\u001b[0m in \u001b[0;36mfinish\u001b[0;34m(exit_code, quiet)\u001b[0m\n\u001b[1;32m   2865\u001b[0m     \"\"\"\n\u001b[1;32m   2866\u001b[0m     \u001b[0;32mif\u001b[0m \u001b[0mwandb\u001b[0m\u001b[0;34m.\u001b[0m\u001b[0mrun\u001b[0m\u001b[0;34m:\u001b[0m\u001b[0;34m\u001b[0m\u001b[0;34m\u001b[0m\u001b[0m\n\u001b[0;32m-> 2867\u001b[0;31m         \u001b[0mwandb\u001b[0m\u001b[0;34m.\u001b[0m\u001b[0mrun\u001b[0m\u001b[0;34m.\u001b[0m\u001b[0mfinish\u001b[0m\u001b[0;34m(\u001b[0m\u001b[0mexit_code\u001b[0m\u001b[0;34m=\u001b[0m\u001b[0mexit_code\u001b[0m\u001b[0;34m,\u001b[0m \u001b[0mquiet\u001b[0m\u001b[0;34m=\u001b[0m\u001b[0mquiet\u001b[0m\u001b[0;34m)\u001b[0m\u001b[0;34m\u001b[0m\u001b[0;34m\u001b[0m\u001b[0m\n\u001b[0m\u001b[1;32m   2868\u001b[0m \u001b[0;34m\u001b[0m\u001b[0m\n\u001b[1;32m   2869\u001b[0m \u001b[0;34m\u001b[0m\u001b[0m\n",
            "\u001b[0;32m/usr/local/lib/python3.7/dist-packages/wandb/sdk/wandb_run.py\u001b[0m in \u001b[0;36mfinish\u001b[0;34m(self, exit_code, quiet)\u001b[0m\n\u001b[1;32m   1470\u001b[0m         \u001b[0;32mfor\u001b[0m \u001b[0mhook\u001b[0m \u001b[0;32min\u001b[0m \u001b[0mself\u001b[0m\u001b[0;34m.\u001b[0m\u001b[0m_teardown_hooks\u001b[0m\u001b[0;34m:\u001b[0m\u001b[0;34m\u001b[0m\u001b[0;34m\u001b[0m\u001b[0m\n\u001b[1;32m   1471\u001b[0m             \u001b[0;32mif\u001b[0m \u001b[0mhook\u001b[0m\u001b[0;34m.\u001b[0m\u001b[0mstage\u001b[0m \u001b[0;34m==\u001b[0m \u001b[0mTeardownStage\u001b[0m\u001b[0;34m.\u001b[0m\u001b[0mEARLY\u001b[0m\u001b[0;34m:\u001b[0m\u001b[0;34m\u001b[0m\u001b[0;34m\u001b[0m\u001b[0m\n\u001b[0;32m-> 1472\u001b[0;31m                 \u001b[0mhook\u001b[0m\u001b[0;34m.\u001b[0m\u001b[0mcall\u001b[0m\u001b[0;34m(\u001b[0m\u001b[0;34m)\u001b[0m\u001b[0;34m\u001b[0m\u001b[0;34m\u001b[0m\u001b[0m\n\u001b[0m\u001b[1;32m   1473\u001b[0m \u001b[0;34m\u001b[0m\u001b[0m\n\u001b[1;32m   1474\u001b[0m         \u001b[0mself\u001b[0m\u001b[0;34m.\u001b[0m\u001b[0m_atexit_cleanup\u001b[0m\u001b[0;34m(\u001b[0m\u001b[0mexit_code\u001b[0m\u001b[0;34m=\u001b[0m\u001b[0mexit_code\u001b[0m\u001b[0;34m)\u001b[0m\u001b[0;34m\u001b[0m\u001b[0;34m\u001b[0m\u001b[0m\n",
            "\u001b[0;32m/usr/local/lib/python3.7/dist-packages/wandb/sdk/wandb_init.py\u001b[0m in \u001b[0;36m_jupyter_teardown\u001b[0;34m(self)\u001b[0m\n\u001b[1;32m    324\u001b[0m             \u001b[0;32mif\u001b[0m \u001b[0;34m\"_pause_backend\"\u001b[0m \u001b[0;32min\u001b[0m \u001b[0mhook\u001b[0m\u001b[0;34m.\u001b[0m\u001b[0m__name__\u001b[0m\u001b[0;34m:\u001b[0m\u001b[0;34m\u001b[0m\u001b[0;34m\u001b[0m\u001b[0m\n\u001b[1;32m    325\u001b[0m                 \u001b[0mipython\u001b[0m\u001b[0;34m.\u001b[0m\u001b[0mevents\u001b[0m\u001b[0;34m.\u001b[0m\u001b[0munregister\u001b[0m\u001b[0;34m(\u001b[0m\u001b[0;34m\"post_run_cell\"\u001b[0m\u001b[0;34m,\u001b[0m \u001b[0mhook\u001b[0m\u001b[0;34m)\u001b[0m\u001b[0;34m\u001b[0m\u001b[0;34m\u001b[0m\u001b[0m\n\u001b[0;32m--> 326\u001b[0;31m         \u001b[0mipython\u001b[0m\u001b[0;34m.\u001b[0m\u001b[0mdisplay_pub\u001b[0m\u001b[0;34m.\u001b[0m\u001b[0mpublish\u001b[0m \u001b[0;34m=\u001b[0m \u001b[0mipython\u001b[0m\u001b[0;34m.\u001b[0m\u001b[0mdisplay_pub\u001b[0m\u001b[0;34m.\u001b[0m\u001b[0m_orig_publish\u001b[0m\u001b[0;34m\u001b[0m\u001b[0;34m\u001b[0m\u001b[0m\n\u001b[0m\u001b[1;32m    327\u001b[0m         \u001b[0;32mdel\u001b[0m \u001b[0mipython\u001b[0m\u001b[0;34m.\u001b[0m\u001b[0mdisplay_pub\u001b[0m\u001b[0;34m.\u001b[0m\u001b[0m_orig_publish\u001b[0m\u001b[0;34m\u001b[0m\u001b[0;34m\u001b[0m\u001b[0m\n\u001b[1;32m    328\u001b[0m \u001b[0;34m\u001b[0m\u001b[0m\n",
            "\u001b[0;31mAttributeError\u001b[0m: 'ZMQDisplayPublisher' object has no attribute '_orig_publish'"
          ]
        }
      ],
      "source": [
        "wandb.finish()"
      ]
    },
    {
      "cell_type": "code",
      "execution_count": null,
      "metadata": {
        "id": "FgkHhPLdIqYc"
      },
      "outputs": [],
      "source": [
        "def loss_cal(yh,ay,ls_fun):\n",
        "  if (ls_fun=='ce'):\n",
        "    cost = -np.sum(np.multiply(ay,np.log(yh)))\n",
        "    return cost\n",
        "    #return np.sum(ay.multiply(np.log(yh)))\n",
        "  elif (ls_fun=='mse'):\n",
        "    return np.sum((ay-yh)**2)"
      ]
    },
    {
      "cell_type": "code",
      "execution_count": null,
      "metadata": {
        "colab": {
          "base_uri": "https://localhost:8080/"
        },
        "id": "egWFeCeidW8E",
        "outputId": "511107b6-6ed1-4a7b-e5eb-5a9617e8ea1a"
      },
      "outputs": [
        {
          "data": {
            "text/plain": [
              "array([0., 1., 1., 0., 0., 0., 0., 0., 0., 0.])"
            ]
          },
          "execution_count": 77,
          "metadata": {},
          "output_type": "execute_result"
        }
      ],
      "source": [
        "ftey[1]"
      ]
    },
    {
      "cell_type": "code",
      "execution_count": null,
      "metadata": {
        "colab": {
          "base_uri": "https://localhost:8080/"
        },
        "id": "wFKtkBKUddIi",
        "outputId": "4023a8f2-21b0-4a0c-ecfa-61823c7839b2"
      },
      "outputs": [
        {
          "data": {
            "text/plain": [
              "2"
            ]
          },
          "execution_count": 75,
          "metadata": {},
          "output_type": "execute_result"
        }
      ],
      "source": [
        "ytest[1]"
      ]
    },
    {
      "cell_type": "code",
      "execution_count": null,
      "metadata": {
        "colab": {
          "base_uri": "https://localhost:8080/"
        },
        "id": "Pj6zn_x3eTah",
        "outputId": "f7c58c02-dac2-455f-8617-a308a2134f69"
      },
      "outputs": [
        {
          "data": {
            "text/plain": [
              "array([ 2,  6, 12])"
            ]
          },
          "execution_count": 84,
          "metadata": {},
          "output_type": "execute_result"
        }
      ],
      "source": [
        "a=[1,2,3]\n",
        "b=[2,3,4]\n",
        "np.multiply(a,b)"
      ]
    },
    {
      "cell_type": "code",
      "execution_count": null,
      "metadata": {
        "id": "p7-amjgxuZyA"
      },
      "outputs": [],
      "source": [
        "def val_loss(W,B,activation,ls_fun):\n",
        "  cost=0\n",
        "  if (ls_fun=='ce'):\n",
        "    for i in range(len(ftex)):\n",
        "      ypr,_,_=Feed_Frwd_Nw1(ftex[i],W,B,activation,ls_fun)\n",
        "      cost = np.sum(np.multiply(ftey[i],np.log(ypr)))\n",
        "    return -cost/len(ftex)\n",
        "    #return np.sum(ay.multiply(np.log(yh)))\n",
        "  elif (ls_fun=='mse'):\n",
        "    for i in range(len(ftex)):\n",
        "      ypr,_,_=Feed_Frwd_Nw1(ftex[i],W,B,activation,ls_fun)\n",
        "      cost+=np.sum((ytest[i]- ypr)**2)\n",
        "    return cost/len(ftex)\n",
        "  \n"
      ]
    },
    {
      "cell_type": "code",
      "execution_count": null,
      "metadata": {
        "id": "5uPtuqpgbF0y"
      },
      "outputs": [],
      "source": [
        "def test_acc(W,B,activation,ls_fun):\n",
        "  count=0\n",
        "  predictions=[]\n",
        "  matrix=np.zeros((10,10))\n",
        "  if (ls_fun=='ce'):\n",
        "    for i in range(len(ftex)):\n",
        "      ypr,_,_=Feed_Frwd_Nw1(ftex[i],W,B,activation,ls_fun)\n",
        "      if (np.argmax(ypr) == ytest[i]):\n",
        "        count+=1\n",
        "      predictions.append(np.argmax(ypr))\n",
        "      matrix[np.argmax(ypr)][ytest[i]]+=1\n",
        "  lables={}\n",
        "  for i in range(len(items)):\n",
        "    lables[i]=items[i]\n",
        "  wandb.log({\"confusion matrix\": wandb.plot.confusion_matrix(probs=None,\n",
        "                                                              y_true=ytest,\n",
        "                                                              preds=predictions,\n",
        "                                                              class_names=items)})\n",
        "  wandb.log({\"confusion matrix v2.0\": wandb.plots.HeatMap(items, items, matrix, show_text=True)})\n",
        "  return count/len(ytest)"
      ]
    },
    {
      "cell_type": "code",
      "execution_count": null,
      "metadata": {
        "id": "QD7mZrqTj77t"
      },
      "outputs": [],
      "source": [
        ""
      ]
    },
    {
      "cell_type": "code",
      "execution_count": null,
      "metadata": {
        "id": "f6fSmk6JiZa2"
      },
      "outputs": [],
      "source": [
        "def accr(W,B,i,ypr):\n",
        "  if (np.argmax(ypr) ==np.argmax(ftry[i])):\n",
        "    return 1\n",
        "  return 0"
      ]
    },
    {
      "cell_type": "code",
      "execution_count": null,
      "metadata": {
        "id": "Uwz_vljjSzUJ"
      },
      "outputs": [],
      "source": [
        "def accuracy(W,B,activation,ls_fun):\n",
        "  count=0\n",
        "  for i in range(len(ftex)):\n",
        "    ypr,_,_=Feed_Frwd_Nw1(ftex[i],W,B,activation,ls_fun)\n",
        "    if (np.argmax(ypr) ==ytest[i]):\n",
        "      count+=1\n",
        "  return count/len(ytest)"
      ]
    },
    {
      "cell_type": "code",
      "execution_count": null,
      "metadata": {
        "id": "mmJRbPWJ1EtE"
      },
      "outputs": [],
      "source": [
        "# nrl=[70,30,15]\n",
        "nrl=[128] # number of neurons in each hidden layer\n",
        "N=len(nrl)\n",
        "W,B=InitParams(nrl,'xaviour')\n",
        "dw,db,da,dh=initgrads(N,nrl)\n",
        "# ypr,ai,hi=Feed_Frwd_Nw1(ftrx[2],N,nrl,W,B)"
      ]
    },
    {
      "cell_type": "code",
      "execution_count": null,
      "metadata": {
        "colab": {
          "background_save": true,
          "base_uri": "https://localhost:8080/"
        },
        "id": "Ph1Ltxy6i1fI",
        "outputId": "ddde69eb-0293-4f4d-b9ed-56e5d3984b25"
      },
      "outputs": [
        {
          "name": "stdout",
          "output_type": "stream",
          "text": [
            "epochs : 1 train_loss : 5.053562716087683   Train_acc: 0.4409 val_loss: 0.0007015344000559092 val_Accuracy: 0.5676     time: 283\n",
            "epochs : 2 train_loss : 4.828212488478748   Train_acc: 0.49388333333333334 val_loss: 0.000983442292994753 val_Accuracy: 0.4994     time: 283\n"
          ]
        },
        {
          "name": "stderr",
          "output_type": "stream",
          "text": [
            "/usr/local/lib/python3.7/dist-packages/ipykernel_launcher.py:33: RuntimeWarning: invalid value encountered in double_scalars\n"
          ]
        },
        {
          "name": "stdout",
          "output_type": "stream",
          "text": [
            "epochs : 3 train_loss : nan   Train_acc: 0.2931 val_loss: nan val_Accuracy: 0.1     time: 286\n",
            "epochs : 4 train_loss : nan   Train_acc: 0.0895 val_loss: nan val_Accuracy: 0.1     time: 287\n",
            "epochs : 5 train_loss : nan   Train_acc: 0.0895 val_loss: nan val_Accuracy: 0.1     time: 281\n",
            "epochs : 6 train_loss : nan   Train_acc: 0.0895 val_loss: nan val_Accuracy: 0.1     time: 294\n",
            "epochs : 7 train_loss : nan   Train_acc: 0.0895 val_loss: nan val_Accuracy: 0.1     time: 294\n"
          ]
        }
      ],
      "source": [
        "a,b,c=gradDecent_v2(ftrx,ftry,'random',0.5,0.1,N,nrl,'tanh','ce',7,1)"
      ]
    },
    {
      "cell_type": "code",
      "execution_count": null,
      "metadata": {
        "colab": {
          "base_uri": "https://localhost:8080/"
        },
        "id": "7QR1HfUTy0dM",
        "outputId": "278a189c-d616-4f24-877c-9afcea4356ff"
      },
      "outputs": [
        {
          "name": "stderr",
          "output_type": "stream",
          "text": [
            "\u001b[34m\u001b[1mwandb\u001b[0m: \u001b[33mWARNING\u001b[0m wandb.plots.* functions are deprecated and will be removed in a future release. Please use wandb.plot.* instead.\n",
            "\u001b[34m\u001b[1mwandb\u001b[0m: Visualizing heatmap.\n"
          ]
        },
        {
          "data": {
            "text/plain": [
              "0.8292"
            ]
          },
          "execution_count": 52,
          "metadata": {},
          "output_type": "execute_result"
        }
      ],
      "source": [
        "test_acc(b,c,'sig','ce')"
      ]
    },
    {
      "cell_type": "code",
      "execution_count": null,
      "metadata": {
        "id": "MdZdJBg3ZkId"
      },
      "outputs": [],
      "source": [
        "p_y,ai,hi=Feed_Frwd_Nw1(ftrx[1],W,B,'sig','ce')"
      ]
    },
    {
      "cell_type": "code",
      "execution_count": null,
      "metadata": {
        "id": "0Zj40CxVwSg6"
      },
      "outputs": [],
      "source": [
        "gw,gb,ga,gh=Back_Prop(ftrx[1],p_y,ftry[1],ai,hi,W,B,N,nrl,'sig','ce')"
      ]
    },
    {
      "cell_type": "code",
      "execution_count": null,
      "metadata": {
        "colab": {
          "base_uri": "https://localhost:8080/"
        },
        "id": "SooTiBGPw2pe",
        "outputId": "e42ccb56-3168-442a-c824-a824629ca252"
      },
      "outputs": [
        {
          "name": "stdout",
          "output_type": "stream",
          "text": [
            "(32, 784)\n",
            "(32, 32)\n",
            "(32, 32)\n",
            "(10, 32)\n"
          ]
        }
      ],
      "source": [
        "for i in range(len(gh)):\n",
        "  print(gw[i].shape)"
      ]
    },
    {
      "cell_type": "code",
      "execution_count": null,
      "metadata": {
        "id": "I5OmK7VKQbcE"
      },
      "outputs": [],
      "source": [
        "def loss(fin_ans, y_train, loss_func, ii, num_output):\n",
        "    if loss_func == \"cross_entropy\":\n",
        "        return -np.log(fin_ans[y_train[ii]])\n",
        "    elif loss_func == \"squared_error\":\n",
        "        return np.square(fin_ans - e(y_train[ii], num_output))"
      ]
    },
    {
      "cell_type": "code",
      "execution_count": null,
      "metadata": {
        "id": "1pHO4oTU3DdB"
      },
      "outputs": [],
      "source": [
        "import copy \n",
        "def Momentum(ftrx,ftry,init,batchsize,gamma,eta,N,nrl,activation,Ls_fun,epochs=1):\n",
        "  W,B=InitParams(nrl,init)\n",
        "  vw,vb,_,_=initgrads(N,nrl)\n",
        "  pw,pb,_,_=initgrads(N,nrl)\n",
        "  e=0\n",
        "  while(epochs>0):\n",
        "    start = time.time()\n",
        "    e+=1\n",
        "    epochs-=1\n",
        "    loss=0\n",
        "    LOSS=0\n",
        "    count=0\n",
        "    acc1=0  \n",
        "    uw,ub,_,_=initgrads(N,nrl)\n",
        "    for i in range(len(ftrx)):\n",
        "      pred_y,ai,hi=Feed_Frwd_Nw1(ftrx[i],W,B,activation,Ls_fun) \n",
        "      gw,gb,ga,gh=Back_Prop(ftrx[i],pred_y,ftry[i],ai,hi,W,B,N,nrl,activation,Ls_fun)\n",
        "      l=loss_cal(pred_y,ftry[i],Ls_fun)\n",
        "      LOSS+=l\n",
        "      acc1+=accr(W,B,i,pred_y)\n",
        "      for j in range(len(gw)):\n",
        "        uw[j]=np.add(uw[j],gw[j])\n",
        "        ub[j]=np.add(ub[j],gb[j])\n",
        "      if((i+1)%batchsize==0):\n",
        "        for k in range(len(gw)):\n",
        "          # z1,z2=W[k],B[k]\n",
        "          vw[k]=np.add(gamma*pw[k],eta*uw[k]/batchsize)\n",
        "          vb[k]=np.add(gamma*pb[k],eta*ub[k]/batchsize)\n",
        "          W[k]=np.subtract(W[k],vw[k])\n",
        "          B[k]=np.subtract(B[k],vb[k])\n",
        "          pw[k]=copy.deepcopy(vw[k])\n",
        "          pb[k]=copy.deepcopy(vb[k])\n",
        "          uw[k]=np.subtract(uw[k],uw[k])\n",
        "          ub[k]=np.subtract(ub[k],ub[k])\n",
        "          \n",
        "        loss/=batchsize\n",
        "        count/=batchsize\n",
        "        #wandb.log({\"val_loss\":loss/batchsize,\"val_accuracy\":count/batchsize,\"loss\":testloss,\"Accuray\":acc,\"epochs\":epochs})\n",
        "        count=0\n",
        "      # print(np.array_equal(W[k],z1),np.array_equal(B[k],z2))    \n",
        "    end = time.time() \n",
        "    testloss=val_loss(W,B,activation,Ls_fun)\n",
        "    testacc=accuracy(W,B) \n",
        "    #wandb.log({\"epoch\":e,\"Train_loss\":LOSS/len(ftrx),\"Train_acc\":acc1/len(ftrx),\"val_loss\":testloss,\"val_Accuracy\":testacc})\n",
        "    print(\"epochs   :\",e,\"train_loss :\",LOSS/len(ftrx),\"  Train_acc:\",acc1/len(ftrx),\"val_loss:\",testloss,\"val_Accuracy:\",testacc,\"    time:\",math.ceil(end-start))\n",
        "    #pw[k]=np.subtract(pw[k],pw[k])\n",
        "    #pb[k]=np.subtract(pb[k],pb[k])\n",
        "  test_acc(W,B,activation,Ls_fun)  \n",
        "  return hi,W,B"
      ]
    },
    {
      "cell_type": "code",
      "execution_count": null,
      "metadata": {
        "colab": {
          "base_uri": "https://localhost:8080/",
          "height": 363
        },
        "id": "NL0gV7q38nPp",
        "outputId": "81e62d1f-ffac-4ff3-f19d-8e6220d8612b"
      },
      "outputs": [
        {
          "name": "stdout",
          "output_type": "stream",
          "text": [
            "epochs   : 1 train_loss : 0.778138181615572   Train_acc: 0.70125 val_loss: 5.4055986094071695e-06 val_Accuracy: 0.8293     time: 33\n"
          ]
        },
        {
          "ename": "KeyboardInterrupt",
          "evalue": "ignored",
          "output_type": "error",
          "traceback": [
            "\u001b[0;31m---------------------------------------------------------------------------\u001b[0m",
            "\u001b[0;31mKeyboardInterrupt\u001b[0m                         Traceback (most recent call last)",
            "\u001b[0;32m<ipython-input-24-97aeafb49e2f>\u001b[0m in \u001b[0;36m<module>\u001b[0;34m()\u001b[0m\n\u001b[0;32m----> 1\u001b[0;31m \u001b[0mhi\u001b[0m\u001b[0;34m,\u001b[0m\u001b[0mW\u001b[0m\u001b[0;34m,\u001b[0m\u001b[0mB\u001b[0m\u001b[0;34m=\u001b[0m\u001b[0mMomentum\u001b[0m\u001b[0;34m(\u001b[0m\u001b[0mftrx\u001b[0m\u001b[0;34m,\u001b[0m\u001b[0mftry\u001b[0m\u001b[0;34m,\u001b[0m\u001b[0;34m'xaviour'\u001b[0m\u001b[0;34m,\u001b[0m\u001b[0;36m32\u001b[0m\u001b[0;34m,\u001b[0m\u001b[0;36m0.9\u001b[0m\u001b[0;34m,\u001b[0m\u001b[0;36m0.1\u001b[0m\u001b[0;34m,\u001b[0m\u001b[0mN\u001b[0m\u001b[0;34m,\u001b[0m\u001b[0mnrl\u001b[0m\u001b[0;34m,\u001b[0m\u001b[0;34m'sig'\u001b[0m\u001b[0;34m,\u001b[0m\u001b[0;34m'ce'\u001b[0m\u001b[0;34m,\u001b[0m\u001b[0;36m10\u001b[0m\u001b[0;34m)\u001b[0m\u001b[0;34m\u001b[0m\u001b[0;34m\u001b[0m\u001b[0m\n\u001b[0m",
            "\u001b[0;32m<ipython-input-17-97a5d2cab594>\u001b[0m in \u001b[0;36mMomentum\u001b[0;34m(ftrx, ftry, init, batchsize, gamma, eta, N, nrl, activation, Ls_fun, epochs)\u001b[0m\n\u001b[1;32m     15\u001b[0m     \u001b[0muw\u001b[0m\u001b[0;34m,\u001b[0m\u001b[0mub\u001b[0m\u001b[0;34m,\u001b[0m\u001b[0m_\u001b[0m\u001b[0;34m,\u001b[0m\u001b[0m_\u001b[0m\u001b[0;34m=\u001b[0m\u001b[0minitgrads\u001b[0m\u001b[0;34m(\u001b[0m\u001b[0mN\u001b[0m\u001b[0;34m,\u001b[0m\u001b[0mnrl\u001b[0m\u001b[0;34m)\u001b[0m\u001b[0;34m\u001b[0m\u001b[0;34m\u001b[0m\u001b[0m\n\u001b[1;32m     16\u001b[0m     \u001b[0;32mfor\u001b[0m \u001b[0mi\u001b[0m \u001b[0;32min\u001b[0m \u001b[0mrange\u001b[0m\u001b[0;34m(\u001b[0m\u001b[0mlen\u001b[0m\u001b[0;34m(\u001b[0m\u001b[0mftrx\u001b[0m\u001b[0;34m)\u001b[0m\u001b[0;34m)\u001b[0m\u001b[0;34m:\u001b[0m\u001b[0;34m\u001b[0m\u001b[0;34m\u001b[0m\u001b[0m\n\u001b[0;32m---> 17\u001b[0;31m       \u001b[0mpred_y\u001b[0m\u001b[0;34m,\u001b[0m\u001b[0mai\u001b[0m\u001b[0;34m,\u001b[0m\u001b[0mhi\u001b[0m\u001b[0;34m=\u001b[0m\u001b[0mFeed_Frwd_Nw1\u001b[0m\u001b[0;34m(\u001b[0m\u001b[0mftrx\u001b[0m\u001b[0;34m[\u001b[0m\u001b[0mi\u001b[0m\u001b[0;34m]\u001b[0m\u001b[0;34m,\u001b[0m\u001b[0mW\u001b[0m\u001b[0;34m,\u001b[0m\u001b[0mB\u001b[0m\u001b[0;34m,\u001b[0m\u001b[0mactivation\u001b[0m\u001b[0;34m,\u001b[0m\u001b[0mLs_fun\u001b[0m\u001b[0;34m)\u001b[0m\u001b[0;34m\u001b[0m\u001b[0;34m\u001b[0m\u001b[0m\n\u001b[0m\u001b[1;32m     18\u001b[0m       \u001b[0mgw\u001b[0m\u001b[0;34m,\u001b[0m\u001b[0mgb\u001b[0m\u001b[0;34m,\u001b[0m\u001b[0mga\u001b[0m\u001b[0;34m,\u001b[0m\u001b[0mgh\u001b[0m\u001b[0;34m=\u001b[0m\u001b[0mBack_Prop\u001b[0m\u001b[0;34m(\u001b[0m\u001b[0mftrx\u001b[0m\u001b[0;34m[\u001b[0m\u001b[0mi\u001b[0m\u001b[0;34m]\u001b[0m\u001b[0;34m,\u001b[0m\u001b[0mpred_y\u001b[0m\u001b[0;34m,\u001b[0m\u001b[0mftry\u001b[0m\u001b[0;34m[\u001b[0m\u001b[0mi\u001b[0m\u001b[0;34m]\u001b[0m\u001b[0;34m,\u001b[0m\u001b[0mai\u001b[0m\u001b[0;34m,\u001b[0m\u001b[0mhi\u001b[0m\u001b[0;34m,\u001b[0m\u001b[0mW\u001b[0m\u001b[0;34m,\u001b[0m\u001b[0mB\u001b[0m\u001b[0;34m,\u001b[0m\u001b[0mN\u001b[0m\u001b[0;34m,\u001b[0m\u001b[0mnrl\u001b[0m\u001b[0;34m,\u001b[0m\u001b[0mactivation\u001b[0m\u001b[0;34m,\u001b[0m\u001b[0mLs_fun\u001b[0m\u001b[0;34m)\u001b[0m\u001b[0;34m\u001b[0m\u001b[0;34m\u001b[0m\u001b[0m\n\u001b[1;32m     19\u001b[0m       \u001b[0ml\u001b[0m\u001b[0;34m=\u001b[0m\u001b[0mloss_cal\u001b[0m\u001b[0;34m(\u001b[0m\u001b[0mpred_y\u001b[0m\u001b[0;34m,\u001b[0m\u001b[0mftry\u001b[0m\u001b[0;34m[\u001b[0m\u001b[0mi\u001b[0m\u001b[0;34m]\u001b[0m\u001b[0;34m,\u001b[0m\u001b[0mLs_fun\u001b[0m\u001b[0;34m)\u001b[0m\u001b[0;34m\u001b[0m\u001b[0;34m\u001b[0m\u001b[0m\n",
            "\u001b[0;32m<ipython-input-23-e71ce74976e0>\u001b[0m in \u001b[0;36mFeed_Frwd_Nw1\u001b[0;34m(xTr, Weighs, Bais, activation, loss)\u001b[0m\n\u001b[1;32m     59\u001b[0m   \u001b[0mh_i\u001b[0m\u001b[0;34m=\u001b[0m\u001b[0;34m[\u001b[0m\u001b[0;34m]\u001b[0m\u001b[0;34m\u001b[0m\u001b[0;34m\u001b[0m\u001b[0m\n\u001b[1;32m     60\u001b[0m   \u001b[0moutput\u001b[0m\u001b[0;34m=\u001b[0m\u001b[0mnp\u001b[0m\u001b[0;34m.\u001b[0m\u001b[0marange\u001b[0m\u001b[0;34m(\u001b[0m\u001b[0;36m10\u001b[0m\u001b[0;34m,\u001b[0m\u001b[0mdtype\u001b[0m\u001b[0;34m=\u001b[0m\u001b[0;34m'float64'\u001b[0m\u001b[0;34m)\u001b[0m\u001b[0;34m\u001b[0m\u001b[0;34m\u001b[0m\u001b[0m\n\u001b[0;32m---> 61\u001b[0;31m   \u001b[0ma_i\u001b[0m\u001b[0;34m.\u001b[0m\u001b[0mappend\u001b[0m\u001b[0;34m(\u001b[0m\u001b[0mnp\u001b[0m\u001b[0;34m.\u001b[0m\u001b[0mdot\u001b[0m\u001b[0;34m(\u001b[0m\u001b[0mWeighs\u001b[0m\u001b[0;34m[\u001b[0m\u001b[0;36m0\u001b[0m\u001b[0;34m]\u001b[0m\u001b[0;34m,\u001b[0m\u001b[0mxTr\u001b[0m\u001b[0;34m)\u001b[0m\u001b[0;34m+\u001b[0m\u001b[0mBais\u001b[0m\u001b[0;34m[\u001b[0m\u001b[0;36m0\u001b[0m\u001b[0;34m]\u001b[0m\u001b[0;34m)\u001b[0m\u001b[0;34m\u001b[0m\u001b[0;34m\u001b[0m\u001b[0m\n\u001b[0m\u001b[1;32m     62\u001b[0m   \u001b[0;32mif\u001b[0m \u001b[0;34m(\u001b[0m\u001b[0mactivation\u001b[0m\u001b[0;34m==\u001b[0m\u001b[0;34m'sig'\u001b[0m\u001b[0;34m)\u001b[0m\u001b[0;34m:\u001b[0m\u001b[0;34m\u001b[0m\u001b[0;34m\u001b[0m\u001b[0m\n\u001b[1;32m     63\u001b[0m     \u001b[0mh_i\u001b[0m\u001b[0;34m.\u001b[0m\u001b[0mappend\u001b[0m\u001b[0;34m(\u001b[0m\u001b[0msigmoid\u001b[0m\u001b[0;34m(\u001b[0m\u001b[0ma_i\u001b[0m\u001b[0;34m[\u001b[0m\u001b[0;36m0\u001b[0m\u001b[0;34m]\u001b[0m\u001b[0;34m)\u001b[0m\u001b[0;34m)\u001b[0m\u001b[0;34m\u001b[0m\u001b[0;34m\u001b[0m\u001b[0m\n",
            "\u001b[0;32m<__array_function__ internals>\u001b[0m in \u001b[0;36mdot\u001b[0;34m(*args, **kwargs)\u001b[0m\n",
            "\u001b[0;31mKeyboardInterrupt\u001b[0m: "
          ]
        }
      ],
      "source": [
        "hi,W,B=Momentum(ftrx,ftry,'xaviour',32,0.9,0.1,N,nrl,'sig','ce',10)"
      ]
    },
    {
      "cell_type": "code",
      "execution_count": null,
      "metadata": {
        "id": "CjASRG3c3DDq"
      },
      "outputs": [],
      "source": [
        "import copy \n",
        "def Nesterov(ftrx,ftry,init,batchsize,gamma,eta,N,nrl,activation,Ls_fun,epochs=1):\n",
        "  W,B=InitParams(nrl,init)\n",
        "  vw,vb,_,_=initgrads(N,nrl)\n",
        "  pw,pb,_,_=initgrads(N,nrl)\n",
        "  w,b=copy.deepcopy(W),copy.deepcopy(B)\n",
        "  e=0\n",
        "  while(epochs>0):\n",
        "    start = time.time()\n",
        "    e+=1\n",
        "    epochs-=1\n",
        "    loss=0\n",
        "    LOSS=0\n",
        "    count=0\n",
        "    acc1=0\n",
        "    \n",
        "    uw,ub,_,_=initgrads(N,nrl)\n",
        "    for i in range(len(ftrx)):\n",
        "      pred_y,ai,hi=Feed_Frwd_Nw1(ftrx[i],W,B,activation,Ls_fun) \n",
        "      gw,gb,ga,gh=Back_Prop(ftrx[i],pred_y,ftry[i],ai,hi,w,b,N,nrl,activation,Ls_fun)\n",
        "      l=loss_cal(pred_y,ftry[i],Ls_fun)\n",
        "      LOSS+=l\n",
        "      acc1+=accr(W,B,i,pred_y)\n",
        "      for j in range(len(gw)):\n",
        "        uw[j]=np.add(uw[j],gw[j])\n",
        "        ub[j]=np.add(ub[j],gb[j])\n",
        "      if((i+1)%batchsize==0):\n",
        "        for k in range(len(gw)):\n",
        "          # z1,z2=W[k],B[k]\n",
        "          vw[k]=np.add(gamma*pw[k],eta*uw[k]/batchsize)\n",
        "          vb[k]=np.add(gamma*pb[k],eta*ub[k]/batchsize)\n",
        "          W[k]=np.subtract(W[k],vw[k])\n",
        "          B[k]=np.subtract(B[k],vb[k])\n",
        "          pw[k]=copy.deepcopy(vw[k])\n",
        "          pb[k]=copy.deepcopy(vb[k])\n",
        "          uw[k]=np.subtract(uw[k],uw[k])\n",
        "          ub[k]=np.subtract(ub[k],ub[k])\n",
        "          for k in range(len(dw)):\n",
        "            w[k]=np.subtract(W[k],gamma*pw[k])\n",
        "            b[k]=np.subtract(B[k],gamma*pb[k])\n",
        "        loss/=batchsize\n",
        "        count/=batchsize\n",
        "        #wandb.log({\"epoch1\":epochs,\"Train_loss\":LOSS/len(ftrx),\"  Train_acc:\",acc1/len(ftrx),\"val_loss:\",testloss,\"val_Accuracy:\",testacc,\"})\n",
        "        count=0\n",
        "      # print(np.array_equal(W[k],z1),np.array_equal(B[k],z2))    \n",
        "    end = time.time() \n",
        "    testloss=val_loss(W,B,activation,Ls_fun)\n",
        "    testacc=accuracy(W,B) \n",
        "    wandb.log({\"epoch\":e,\"Train_loss\":LOSS/len(ftrx),\"Train_acc\":acc1/len(ftrx),\"val_loss\":testloss,\"val_Accuracy\":testacc})\n",
        "        \n",
        "    #print(\"epochs   :\",epochs,\"train_loss :\",LOSS/len(ftrx),\"  Train_acc:\",acc1/len(ftrx),\"val_loss:\",testloss,\"val_Accuracy:\",testacc,\"    time:\",math.ceil(end-start))\n",
        "    #pw[k]=np.subtract(pw[k],pw[k])\n",
        "    #pb[k]=np.subtract(pb[k],pb[k])\n",
        "  test_acc(W,B,activation,Ls_fun)  \n",
        "  return hi,W,B"
      ]
    },
    {
      "cell_type": "code",
      "execution_count": null,
      "metadata": {
        "colab": {
          "base_uri": "https://localhost:8080/"
        },
        "id": "9cxOW-A49ak5",
        "outputId": "dbf3891e-abdc-4d76-ae67-6c60ee079c13"
      },
      "outputs": [
        {
          "name": "stdout",
          "output_type": "stream",
          "text": [
            "epochs   : 4 train_loss : 0.7891572812452153   Train_acc: 0.6968666666666666 val_loss: 0.032039974997873914 val_Accuracy: 0.8211     time: 25\n",
            "epochs   : 3 train_loss : 0.4660475340755098   Train_acc: 0.8337833333333333 val_loss: 0.03060031643684356 val_Accuracy: 0.8364     time: 26\n",
            "epochs   : 2 train_loss : 0.4154833471790105   Train_acc: 0.85055 val_loss: 0.036206217443894885 val_Accuracy: 0.8338     time: 34\n",
            "epochs   : 1 train_loss : 0.3902614118539629   Train_acc: 0.8578833333333333 val_loss: 0.03918961492485215 val_Accuracy: 0.8297     time: 26\n",
            "epochs   : 0 train_loss : 0.36934173326132264   Train_acc: 0.8647166666666667 val_loss: 0.038698570755272624 val_Accuracy: 0.8391     time: 25\n"
          ]
        }
      ],
      "source": [
        "hi,W,B=Nesterov(ftrx,ftry,'xaviour',32,0.9,0.1,N,nrl,'sig','ce',epochs=5)"
      ]
    },
    {
      "cell_type": "code",
      "execution_count": null,
      "metadata": {
        "id": "FSOlpPPEvUBy"
      },
      "outputs": [],
      "source": [
        ""
      ]
    },
    {
      "cell_type": "code",
      "execution_count": null,
      "metadata": {
        "id": "6UjCJ3NkQvum"
      },
      "outputs": [],
      "source": [
        "def Adagrad(ftrx,ftry,eps,eta,N,nrl,activation,Ls_fun,epochs=1):\n",
        "  W,B=InitParams(nrl)\n",
        "  vw,vb,_,_=initgrads(N,nrl)\n",
        "  while(epochs>0):\n",
        "    start = time.time()\n",
        "    epochs-=1\n",
        "    loss=0\n",
        "    dw,db,da,dh=initgrads(N,nrl)\n",
        "    uw,ub=list(dw),list(db)\n",
        "    for i in range(len(ftrx[:100])):\n",
        "      pred_y,ai,hi=Feed_Frwd_Nw1(ftrx[i],W,B,activation,Ls_fun) \n",
        "      gw,gb,ga,gh=Back_Prop(ftrx[i],pred_y,ftry[i],ai,hi,W,B,N,nrl,activation,Ls_fun)\n",
        "      loss=loss+loss(ftry[i],pred_y);\n",
        "      for j in range(len(gw)):\n",
        "        uw[j]=np.add(uw[j],gw[j] )\n",
        "        ub[j]=np.add(ub[j],gb[j])\n",
        "  #  for p in range(len(gw)):\n",
        "  #    uw[p]=np.divide(uw[p],len(ftrx[:500]))\n",
        "  #    ub[p]=np.divide(ub[p],len(ftrx[:500]))\n",
        "    # print(len(gw))\n",
        "    for k in range(len(gw)):\n",
        "      # z1,z2=W[k],B[k]\n",
        "      vw[k]=vw[k]+uw[k]**2\n",
        "      vb[k]=vb[k]+ub[k]**2\n",
        "      W[k]=W[k]-(eta/np.sqrt(vw[k]+eps))*uw[k]\n",
        "      B[k]=B[k]-(eta/np.sqrt(vb[k]+eps))*vb[k]\n",
        "      # print(np.array_equal(W[k],z1),np.array_equal(B[k],z2))    \n",
        "    end = time.time()  \n",
        "    print(\"epochs   :\",epochs,\"   loss   :\",pred_y,\"  ch:\",ftry[100],\"    time:\",math.ceil(end-start))\n",
        " \n",
        "  return hi,W,B"
      ]
    },
    {
      "cell_type": "code",
      "execution_count": null,
      "metadata": {
        "colab": {
          "base_uri": "https://localhost:8080/"
        },
        "id": "58TjwpVR91Ri",
        "outputId": "ceebcc73-7226-48ec-ab68-407c0f1c539f"
      },
      "outputs": [
        {
          "name": "stdout",
          "output_type": "stream",
          "text": [
            "epochs   : 0    loss   : [0.10006415 0.10019865 0.10004269 0.10000727 0.09997019 0.09994917\n",
            " 0.09993534 0.09986276 0.09991713 0.10005266]   ch: [0. 0. 0. 0. 0. 0. 0. 0. 1. 0.]     time: 1\n"
          ]
        }
      ],
      "source": [
        "hi,W,B=Adagrad(ftrx,ftry,0.8,0.3,N,nrl,'tanh','ce',epochs=1)\n"
      ]
    },
    {
      "cell_type": "code",
      "execution_count": null,
      "metadata": {
        "id": "NKw8P6wpQvkZ"
      },
      "outputs": [],
      "source": [
        "def rmsprop(ftrx,ftry,init,batchsize,wd,beta,eps,eta,N,nrl,activation,Ls_fun,epochs=1):\n",
        "  W,B=InitParams(nrl,init)\n",
        "  vw,vb,_,_=initgrads(N,nrl)\n",
        "  while(epochs>0):\n",
        "    start = time.time()\n",
        "    epochs-=1\n",
        "    loss=0\n",
        "    dw,db,da,dh=initgrads(N,nrl)\n",
        "    uw,ub=list(dw),list(db)\n",
        "    for i in range(len(ftrx[:100])):\n",
        "      pred_y,ai,hi=Feed_Frwd_Nw1(ftrx[i],W,B,activation,Ls_fun) \n",
        "      gw,gb,ga,gh=Back_Prop(ftrx[i],pred_y,ftry[i],ai,hi,W,B,N,nrl,activation,Ls_fun)\n",
        "      loss=loss+loss(ftry[i],pred_y);\n",
        "      for j in range(len(gw)):\n",
        "        uw[j]=np.add(uw[j],gw[j] )\n",
        "        ub[j]=np.add(ub[j],gb[j])\n",
        "  #  for p in range(len(gw)):\n",
        "  #    uw[p]=np.divide(uw[p],len(ftrx[:500]))\n",
        "  #    ub[p]=np.divide(ub[p],len(ftrx[:500]))\n",
        "    # print(len(gw))\n",
        "      if((i-1)%batchsize==0):\n",
        "        for k in range(len(gw)):\n",
        "          # z1,z2=W[k],B[k]\n",
        "          vw[k]=beta*vw[k]+(1-beta)*(uw[k]**2)\n",
        "          vb[k]=beta*vb[k]+(1-beta)*(ub[k]**2)\n",
        "          W[k]=(1-wd*eta)*W[k]-(eta/np.sqrt(vw[k]+eps))*uw[k]\n",
        "          B[k]=(1-wd*eta)*B[k]-(eta/np.sqrt(vb[k]+eps))*vb[k]\n",
        "        acc=accuracy(W,B)\n",
        "        testloss=val_loss(activation,Ls_fun)\n",
        "        loss/=batchsize\n",
        "        count/=batchsize\n",
        "        wandb.log({\"val_loss\":loss/batchsize,\"val_accuracy\":count/batchsize,\"loss\":testloss,\"Accuray\":acc,\"epochs\":epochs})\n",
        "        count=0\n",
        "      # print(np.array_equal(W[k],z1),np.array_equal(B[k],z2))    \n",
        "    end = time.time()  \n",
        "    print(\"epochs   :\",e,\"   val_loss   :\",loss,\"  val_acc:\",count,\"loss:\",testloss,\"Accuracy:\",acc,\"    time:\",math.ceil(end-start))\n",
        " \n",
        "  return hi,W,B"
      ]
    },
    {
      "cell_type": "code",
      "execution_count": null,
      "metadata": {
        "colab": {
          "base_uri": "https://localhost:8080/"
        },
        "id": "fdl8YV5u-K_u",
        "outputId": "fb2145ce-1830-436d-ffa6-e6c6a92e3095"
      },
      "outputs": [
        {
          "name": "stdout",
          "output_type": "stream",
          "text": [
            "epochs   : 0    loss   : [0.0999949  0.10008296 0.10020095 0.09973383 0.0998493  0.09992333\n",
            " 0.10006054 0.09993042 0.10016183 0.10006194]   ch: [0. 0. 0. 0. 0. 0. 0. 0. 1. 0.]     time: 1\n"
          ]
        }
      ],
      "source": [
        "hi,W,B=rmsprop(ftrx,ftry,'xaviour',0.05,0.8,0.3,N,nrl,'tanh','ce',epochs=1)"
      ]
    },
    {
      "cell_type": "code",
      "execution_count": null,
      "metadata": {
        "id": "WvvDZsS7QvX3"
      },
      "outputs": [],
      "source": [
        "def Adam(ftrx,ftry,init,batchsize,beta1,beta2,eps,eta,N,nrl,activation,Ls_fun,epochs=10):\n",
        "  W,B=InitParams(nrl,init)\n",
        "  vw,vb,_,_=initgrads(N,nrl)\n",
        "  mw,mb,_,_=initgrads(N,nrl)\n",
        "  for e in range(epochs):\n",
        "    start = time.time()\n",
        "    loss=0\n",
        "    dw,db,da,dh=initgrads(N,nrl)\n",
        "    uw,ub=list(dw),list(db)\n",
        "    for i in range(len(ftrx[:10000])):\n",
        "      pred_y,ai,hi=Feed_Frwd_Nw1(ftrx[i],W,B,activation,Ls_fun) \n",
        "      gw,gb,ga,gh=Back_Prop(ftrx[i],pred_y,ftry[i],ai,hi,W,B,N,nrl,activation,Ls_fun)\n",
        "      loss=loss+loss(ftry[i],pred_y,Ls_fun)\n",
        "      for j in range(len(gw)):\n",
        "        uw[j]=np.add(uw[j],gw[j] )\n",
        "        ub[j]=np.add(ub[j],gb[j])\n",
        "      if((i-1)%batchsize==0):\n",
        "  #  for p in range(len(gw)):\n",
        "  #    uw[p]=np.divide(uw[p],len(ftrx[:500]))\n",
        "  #    ub[p]=np.divide(ub[p],len(ftrx[:500]))\n",
        "    # print(len(gw))\n",
        "        for k in range(len(gw)):\n",
        "          # z1,z2=W[k],B[k]\n",
        "          mw[k]=beta1*mw[k]+(1-beta1)*(uw[k])\n",
        "          mb[k]=beta1*mb[k]+(1-beta1)*(ub[k])\n",
        "          vw[k]=beta2*vw[k]+(1-beta2)*(uw[k]**2)\n",
        "          vb[k]=beta2*vb[k]+(1-beta2)*(ub[k]**2)\n",
        "          mw[k]=mw[k]/(1-math.pow(beta1,e+1))\n",
        "          mb[k]=mb[k]/(1-math.pow(beta1,e+1))\n",
        "          vw[k]=vw[k]/(1-math.pow(beta2,e+1))\n",
        "          vb[k]=vb[k]/(1-math.pow(beta2,e+1))\n",
        "          W[k]=W[k]-(eta/np.sqrt(vw[k]+eps))*mw[k]\n",
        "          B[k]=B[k]-(eta/np.sqrt(vb[k]+eps))*mb[k]\n",
        "        acc=accuracy(W,B)\n",
        "        testloss=val_loss(activation,Ls_fun)\n",
        "        loss/=batchsize\n",
        "        count/=batchsize\n",
        "        wandb.log({\"val_loss\":loss/batchsize,\"val_accuracy\":count/batchsize,\"loss\":testloss,\"Accuray\":acc,\"epochs\":epochs})\n",
        "        count=0\n",
        "      # print(np.array_equal(W[k],z1),np.array_equal(B[k],z2))    \n",
        "    end = time.time()  \n",
        "    print(\"epochs   :\",e,\"   val_loss   :\",loss,\"  val_acc:\",count,\"loss:\",testloss,\"Accuracy:\",acc,\"    time:\",math.ceil(end-start))\n",
        "  return hi,W,B"
      ]
    },
    {
      "cell_type": "code",
      "execution_count": null,
      "metadata": {
        "id": "AfGJKQ6q-lvU"
      },
      "outputs": [],
      "source": [
        "hi,W,B=Adam(ftrx,ftry,'xaviour',0.05,0.006,0.8,0.3,N,nrl,'tanh','ce',10)"
      ]
    },
    {
      "cell_type": "code",
      "execution_count": null,
      "metadata": {
        "colab": {
          "base_uri": "https://localhost:8080/"
        },
        "id": "5Q9e9eNQUTa2",
        "outputId": "476962c9-034c-4ee3-d952-85018d689149"
      },
      "outputs": [
        {
          "data": {
            "text/plain": [
              "84"
            ]
          },
          "execution_count": 44,
          "metadata": {},
          "output_type": "execute_result"
        }
      ],
      "source": [
        "lr=[1e-3,1e-4,1e-2,1e-5,2e-3,2e-4,2e-2,2e-5,3e-3,3e-4,3e-2,3e-5,4e-3,4e-4,4e-2,4e-5,5e-3,5e-4,5e-2,5e-5,6e-3,6e-4,6e-2,6e-5,7e-3,7e-4,7e-2,7e-4,8e-3,8e-4,8e-2,8e-5,9e-3,9e-4,9e-2,9e-5,1e-1,2e-1,3e-1,4e-1,5e-1,6e-1,1.5e-3,1.5e-4,1.5e-2,1.5e-5,2.5e-3,2.5e-4,2.5e-2,2.5e-5,3.5e-3,3.5e-4,3.5e-2,3.5e-5,4.5e-3,4.5e-4,4.5e-2,4.5e-5,5.5e-3,5.5e-4,5.5e-2,5.5e-5,6.5e-3,6.5e-4,6.5e-2,6.5e-5,7.5e-3,7.5e-4,7.5e-2,7.5e-4,8.5e-3,8.5e-4,8.5e-2,8.5e-5,9.5e-3,9.5e-4,9.5e-2,9.5e-5,1.5e-1,2.5e-1,3.5e-1,4.5e-1,5e-1,6.5e-1]\n",
        "len(lr)"
      ]
    },
    {
      "cell_type": "code",
      "execution_count": null,
      "metadata": {
        "id": "2j6cZQRZLqFM"
      },
      "outputs": [],
      "source": [
        "sweep_config = {\n",
        "                  'method'    : \"random\",\n",
        "                  'metric'    : {'name': 'accuracy'},\n",
        "                  'parameters': {\n",
        "                                  'optimizer'              : {'values': ['sgd','momentum','nesterov','rmsprop','adam']},\n",
        "                                  'hidden_layer_size'        : {'values':[32, 64,16,10]},\n",
        "                                  'num_hidden_layers'                  : {'values':[1,2,3,5,7] },\n",
        "                                  'activation'         : {'values':['sig','relu','tanh']},\n",
        "                                  'lossfun'            : {'values':['ce','mse']},\n",
        "                                  'lr'       : {'values':[1e-3,1e-4,1e-2,1e-5,2e-3,2e-4,2e-2,2e-5,3e-3,3e-4,3e-2,3e-5,4e-3,4e-4,4e-2,4e-5,5e-3,5e-4,5e-2,5e-5,6e-3,6e-4,6e-2,6e-5,7e-3,7e-4,7e-2,7e-4,8e-3,8e-4,8e-2,8e-5,9e-3,9e-4,9e-2,9e-5,1e-1,2e-1,3e-1,4e-1,1.5e-3,1.5e-4,1.5e-2,1.5e-5,2.5e-3,2.5e-4,2.5e-2,2.5e-5,3.5e-3,3.5e-4,3.5e-2,3.5e-5,4.5e-3,4.5e-4,4.5e-2,4.5e-5,5.5e-3,5.5e-4,5.5e-2,5.5e-5,6.5e-3,6.5e-4,6.5e-2,6.5e-5,7.5e-3,7.5e-4,7.5e-2,7.5e-4,8.5e-3,8.5e-4,8.5e-2,8.5e-5,9.5e-3,9.5e-4,9.5e-2,9.5e-5,1.5e-1,2.5e-1,3.5e-1]},\n",
        "                                  'weights_initializer': {'values':['random','Xavier']},\n",
        "                                  'epochs'             :{'values':[5,10,20]},\n",
        "                                  'weightDecay'        :{'values':[0,0.0005, 0.005]},\n",
        "                                  'batchsize'         :{'values':[16,32,64]},\n",
        "\n",
        "                                }\n",
        "                }"
      ]
    },
    {
      "cell_type": "code",
      "execution_count": null,
      "metadata": {
        "id": "r1EFY01vZlRm"
      },
      "outputs": [],
      "source": [
        "s_config = {\n",
        "                  'method'    : \"random\",\n",
        "                  'metric'    : {'name': 'accuracy','goal':'maximize'},\n",
        "                  'parameters': {\n",
        "                                  'optimizer'              : {'values': ['sgd','momentum','nesterov']},\n",
        "                                  'hidden_layer_size'        : {'values':[32, 64,16,10]},\n",
        "                                  'num_hidden_layers'                  : {'values':[1,2,3,5,7] },\n",
        "                                  'activation'         : {'values':['sig','relu','tanh']},\n",
        "                                  'lossfun'            : {'values':['ce','mse']},\n",
        "                                  'lr'       : {'values':[1e-3,1e-4,1e-2,1e-5,2e-3,2e-4,2e-2,2e-5,3e-3,3e-4,3e-2,3e-5,4e-3,4e-4,4e-2,4e-5,5e-3,5e-4,5e-2,5e-5,6e-3,6e-4,6e-2,6e-5,7e-3,7e-4,7e-2,7e-4,8e-3,8e-4,8e-2,8e-5,9e-3,9e-4,9e-2,9e-5,1e-1,2e-1,1.5e-3,1.5e-4,1.5e-2,1.5e-5,2.5e-3,2.5e-4,2.5e-2,2.5e-5,3.5e-3,3.5e-4,3.5e-2,3.5e-5,4.5e-3,4.5e-4,4.5e-2,4.5e-5,5.5e-3,5.5e-4,5.5e-2,5.5e-5,6.5e-3,6.5e-4,6.5e-2,6.5e-5,7.5e-3,7.5e-4,7.5e-2,7.5e-4,8.5e-3,8.5e-4,8.5e-2,8.5e-5,9.5e-3,9.5e-4,9.5e-2,9.5e-5,1.5e-1,2.5e-1]},\n",
        "                                  'weights_initializer': {'values':['random','Xavier']},\n",
        "                                  'epochs'             :{'values':[5,10,6,8]},\n",
        "                                  'weightDecay'        :{'values':[0.005]},\n",
        "                                  'batchsize'         :{'values':[16,32,64]},\n",
        "\n",
        "                                }\n",
        "                }"
      ]
    },
    {
      "cell_type": "code",
      "execution_count": null,
      "metadata": {
        "id": "I5KwMcoa3pWc"
      },
      "outputs": [],
      "source": [
        "def train():\n",
        "\n",
        "  hyperparameter=dict(\n",
        "      epochs = 5,                                       \n",
        "      batchsize = 10,                                                    \n",
        "      weightDecay = 0.0005,                                            \n",
        "      noOfNeurons = 32,\n",
        "      layerInitialization='random',                               \n",
        "      learningrate=1e-3,\n",
        "      activation='sig',                                             \n",
        "      optim = \"momentum\",                      \n",
        "      N= 3,           \n",
        "      Lossfun = \"ce\",\n",
        "      \n",
        "  )\n",
        "\n",
        "  wandb.init(config=hyperparameter)\n",
        "\n",
        "  config=wandb.config\n",
        "  wandb.run.name = \"e_{}_hls_{}_numhl_{}_opt_{}_bs_{}_init_{}_ac_{}_loss_{}_learning_rate_{}_wdecay_{}\".format(config.epochs,\\\n",
        "                                                                      config.hidden_layer_size,\\\n",
        "                                                                      config.num_hidden_layers,\\\n",
        "                                                                      config.optimizer,\\\n",
        "                                                                      config.batchsize,\\\n",
        "                                                                      config.weights_initializer,\\\n",
        "                                                                      config.activation,\\\n",
        "                                                                      config.lossfun,\\\n",
        "                                                                      config.lr,\n",
        "                                                                      config.weightDecay)\n",
        "  output_size=10                                      \n",
        "  nrl=[config.noOfNeurons for i in range(config.N)]   #hidden layer sizes array creation\n",
        "  if(config.optim==\"sgd\"):\n",
        "    param=gradDecent_v2(ftrx,ftry,config.weights_initializer,config.weightDecay,config.lr,config.N,nrl,config.activation,config.lossfun,config.epochs,config.batchsize)\n",
        "  elif(config.optim==\"adam\"):\n",
        "    param=Adam(ftrx,ftry,config.weights_initializer,config.batchsize,0.9,0.999,1.0,config.lr,config.N,nrl,config.activation,config.lossfun,config.epochs)\n",
        "  elif(config.optim==\"momentum\"):\n",
        "    param=Momentum(ftrx,ftry,config.weights_initializer,config.batchsize,0.9,config.lr,config.N,nrl,config.activation,config.lossfun,config.epochs)\n",
        "  elif(config.optim==\"nesterov\"):\n",
        "    param=Nesterov(ftrx,ftry,config.weights_initializer,config.batchsize,0.9,config.lr,config.N,nrl,config.activation,config.lossfun,config.epochs)\n",
        "  elif(config.optim==\"rmsprop\"):\n",
        "    param=rmsprop(ftrx,ftry,config.weights_initializer,config.batchsize,config.weightDecay,0.03,config.lr,config.N,nrl,config.activation,config.lossfun,config.epochs)\n",
        "  \n",
        "  "
      ]
    },
    {
      "cell_type": "code",
      "execution_count": null,
      "metadata": {
        "colab": {
          "base_uri": "https://localhost:8080/",
          "height": 265,
          "referenced_widgets": [
            "42eedcbff7c7462b98ab3f68c12148b2",
            "5d0d9003a68644ada322c030228d38f0",
            "69321c6beab34173ad353a3051bd9382",
            "0c6c1766d46241448b3cf876687d750b",
            "267dcc44bbbd4e4e8a669966476a8eac",
            "e9b5916a783c41b8aab19e7f4b0c9746",
            "076a5c189b7a49ff81632c92f9ee74c3",
            "72c1c37d09364ff59ed55cbba35b2f4a"
          ]
        },
        "id": "3sf8FbSkkOcU",
        "outputId": "33bafa46-92b8-48a7-a5ce-5f2169650e30"
      },
      "outputs": [
        {
          "ename": "ZeroDivisionError",
          "evalue": "ignored",
          "output_type": "error",
          "traceback": [
            "\u001b[0;31m---------------------------------------------------------------------------\u001b[0m",
            "\u001b[0;31mZeroDivisionError\u001b[0m                         Traceback (most recent call last)",
            "\u001b[0;32m<ipython-input-112-9e1622b385b6>\u001b[0m in \u001b[0;36m<module>\u001b[0;34m()\u001b[0m\n\u001b[0;32m----> 1\u001b[0;31m \u001b[0;36m1\u001b[0m\u001b[0;34m/\u001b[0m\u001b[0;36m0\u001b[0m\u001b[0;34m\u001b[0m\u001b[0;34m\u001b[0m\u001b[0m\n\u001b[0m",
            "\u001b[0;31mZeroDivisionError\u001b[0m: division by zero"
          ]
        },
        {
          "data": {
            "text/html": [
              "<br/>Waiting for W&B process to finish, PID 2528... <strong style=\"color:red\">(failed 1).</strong> Press ctrl-c to abort syncing."
            ],
            "text/plain": [
              "<IPython.core.display.HTML object>"
            ]
          },
          "metadata": {},
          "output_type": "display_data"
        },
        {
          "data": {
            "application/vnd.jupyter.widget-view+json": {
              "model_id": "42eedcbff7c7462b98ab3f68c12148b2",
              "version_major": 2,
              "version_minor": 0
            },
            "text/plain": [
              "VBox(children=(Label(value=' 0.00MB of 0.00MB uploaded (0.00MB deduped)\\r'), FloatProgress(value=1.0, max=1.0)…"
            ]
          },
          "metadata": {},
          "output_type": "display_data"
        }
      ],
      "source": [
        "1/0"
      ]
    },
    {
      "cell_type": "code",
      "execution_count": null,
      "metadata": {
        "colab": {
          "base_uri": "https://localhost:8080/"
        },
        "id": "t2Dhb33fzYvs",
        "outputId": "1e118e15-88af-4e66-8850-877f6daac79f"
      },
      "outputs": [
        {
          "name": "stdout",
          "output_type": "stream",
          "text": [
            "Create sweep with ID: lgmwv1x9\n",
            "Sweep URL: https://wandb.ai/pratap101/assign/sweeps/lgmwv1x9\n"
          ]
        }
      ],
      "source": [
        "sweep_id = wandb.sweep(s_config,project='assign')"
      ]
    },
    {
      "cell_type": "code",
      "execution_count": null,
      "metadata": {
        "colab": {
          "base_uri": "https://localhost:8080/",
          "height": 1000
        },
        "id": "DbcS62rlzJz_",
        "outputId": "f1bd3df2-138e-4c4f-9031-6d09f451eb7e"
      },
      "outputs": [
        {
          "name": "stdout",
          "output_type": "stream",
          "text": [
            "Error in callback <bound method _WandbInit._resume_backend of <wandb.sdk.wandb_init._WandbInit object at 0x7f4b7061a410>> (for pre_run_cell):\n"
          ]
        },
        {
          "ename": "Exception",
          "evalue": "ignored",
          "output_type": "error",
          "traceback": [
            "\u001b[0;31m---------------------------------------------------------------------------\u001b[0m",
            "\u001b[0;31mException\u001b[0m                                 Traceback (most recent call last)",
            "\u001b[0;32m/usr/local/lib/python3.7/dist-packages/wandb/sdk/wandb_init.py\u001b[0m in \u001b[0;36m_resume_backend\u001b[0;34m(self)\u001b[0m\n\u001b[1;32m    307\u001b[0m         \u001b[0;32mif\u001b[0m \u001b[0mself\u001b[0m\u001b[0;34m.\u001b[0m\u001b[0mbackend\u001b[0m \u001b[0;32mis\u001b[0m \u001b[0;32mnot\u001b[0m \u001b[0;32mNone\u001b[0m\u001b[0;34m:\u001b[0m\u001b[0;34m\u001b[0m\u001b[0;34m\u001b[0m\u001b[0m\n\u001b[1;32m    308\u001b[0m             \u001b[0mlogger\u001b[0m\u001b[0;34m.\u001b[0m\u001b[0minfo\u001b[0m\u001b[0;34m(\u001b[0m\u001b[0;34m\"resuming backend\"\u001b[0m\u001b[0;34m)\u001b[0m\u001b[0;34m\u001b[0m\u001b[0;34m\u001b[0m\u001b[0m\n\u001b[0;32m--> 309\u001b[0;31m             \u001b[0mself\u001b[0m\u001b[0;34m.\u001b[0m\u001b[0mbackend\u001b[0m\u001b[0;34m.\u001b[0m\u001b[0minterface\u001b[0m\u001b[0;34m.\u001b[0m\u001b[0mpublish_resume\u001b[0m\u001b[0;34m(\u001b[0m\u001b[0;34m)\u001b[0m\u001b[0;34m\u001b[0m\u001b[0;34m\u001b[0m\u001b[0m\n\u001b[0m\u001b[1;32m    310\u001b[0m \u001b[0;34m\u001b[0m\u001b[0m\n\u001b[1;32m    311\u001b[0m     \u001b[0;32mdef\u001b[0m \u001b[0m_jupyter_teardown\u001b[0m\u001b[0;34m(\u001b[0m\u001b[0mself\u001b[0m\u001b[0;34m)\u001b[0m\u001b[0;34m:\u001b[0m\u001b[0;34m\u001b[0m\u001b[0;34m\u001b[0m\u001b[0m\n",
            "\u001b[0;32m/usr/local/lib/python3.7/dist-packages/wandb/sdk/interface/interface.py\u001b[0m in \u001b[0;36mpublish_resume\u001b[0;34m(self)\u001b[0m\n\u001b[1;32m    548\u001b[0m     \u001b[0;32mdef\u001b[0m \u001b[0mpublish_resume\u001b[0m\u001b[0;34m(\u001b[0m\u001b[0mself\u001b[0m\u001b[0;34m)\u001b[0m \u001b[0;34m->\u001b[0m \u001b[0;32mNone\u001b[0m\u001b[0;34m:\u001b[0m\u001b[0;34m\u001b[0m\u001b[0;34m\u001b[0m\u001b[0m\n\u001b[1;32m    549\u001b[0m         \u001b[0mresume\u001b[0m \u001b[0;34m=\u001b[0m \u001b[0mpb\u001b[0m\u001b[0;34m.\u001b[0m\u001b[0mResumeRequest\u001b[0m\u001b[0;34m(\u001b[0m\u001b[0;34m)\u001b[0m\u001b[0;34m\u001b[0m\u001b[0;34m\u001b[0m\u001b[0m\n\u001b[0;32m--> 550\u001b[0;31m         \u001b[0mself\u001b[0m\u001b[0;34m.\u001b[0m\u001b[0m_publish_resume\u001b[0m\u001b[0;34m(\u001b[0m\u001b[0mresume\u001b[0m\u001b[0;34m)\u001b[0m\u001b[0;34m\u001b[0m\u001b[0;34m\u001b[0m\u001b[0m\n\u001b[0m\u001b[1;32m    551\u001b[0m \u001b[0;34m\u001b[0m\u001b[0m\n\u001b[1;32m    552\u001b[0m     \u001b[0;34m@\u001b[0m\u001b[0mabstractmethod\u001b[0m\u001b[0;34m\u001b[0m\u001b[0;34m\u001b[0m\u001b[0m\n",
            "\u001b[0;32m/usr/local/lib/python3.7/dist-packages/wandb/sdk/interface/interface_shared.py\u001b[0m in \u001b[0;36m_publish_resume\u001b[0;34m(self, resume)\u001b[0m\n\u001b[1;32m    268\u001b[0m     \u001b[0;32mdef\u001b[0m \u001b[0m_publish_resume\u001b[0m\u001b[0;34m(\u001b[0m\u001b[0mself\u001b[0m\u001b[0;34m,\u001b[0m \u001b[0mresume\u001b[0m\u001b[0;34m:\u001b[0m \u001b[0mpb\u001b[0m\u001b[0;34m.\u001b[0m\u001b[0mResumeRequest\u001b[0m\u001b[0;34m)\u001b[0m \u001b[0;34m->\u001b[0m \u001b[0;32mNone\u001b[0m\u001b[0;34m:\u001b[0m\u001b[0;34m\u001b[0m\u001b[0;34m\u001b[0m\u001b[0m\n\u001b[1;32m    269\u001b[0m         \u001b[0mrec\u001b[0m \u001b[0;34m=\u001b[0m \u001b[0mself\u001b[0m\u001b[0;34m.\u001b[0m\u001b[0m_make_request\u001b[0m\u001b[0;34m(\u001b[0m\u001b[0mresume\u001b[0m\u001b[0;34m=\u001b[0m\u001b[0mresume\u001b[0m\u001b[0;34m)\u001b[0m\u001b[0;34m\u001b[0m\u001b[0;34m\u001b[0m\u001b[0m\n\u001b[0;32m--> 270\u001b[0;31m         \u001b[0mself\u001b[0m\u001b[0;34m.\u001b[0m\u001b[0m_publish\u001b[0m\u001b[0;34m(\u001b[0m\u001b[0mrec\u001b[0m\u001b[0;34m)\u001b[0m\u001b[0;34m\u001b[0m\u001b[0;34m\u001b[0m\u001b[0m\n\u001b[0m\u001b[1;32m    271\u001b[0m \u001b[0;34m\u001b[0m\u001b[0m\n\u001b[1;32m    272\u001b[0m     \u001b[0;32mdef\u001b[0m \u001b[0m_publish_run\u001b[0m\u001b[0;34m(\u001b[0m\u001b[0mself\u001b[0m\u001b[0;34m,\u001b[0m \u001b[0mrun\u001b[0m\u001b[0;34m:\u001b[0m \u001b[0mpb\u001b[0m\u001b[0;34m.\u001b[0m\u001b[0mRunRecord\u001b[0m\u001b[0;34m)\u001b[0m \u001b[0;34m->\u001b[0m \u001b[0;32mNone\u001b[0m\u001b[0;34m:\u001b[0m\u001b[0;34m\u001b[0m\u001b[0;34m\u001b[0m\u001b[0m\n",
            "\u001b[0;32m/usr/local/lib/python3.7/dist-packages/wandb/sdk/interface/interface_queue.py\u001b[0m in \u001b[0;36m_publish\u001b[0;34m(self, record, local)\u001b[0m\n\u001b[1;32m     47\u001b[0m     \u001b[0;32mdef\u001b[0m \u001b[0m_publish\u001b[0m\u001b[0;34m(\u001b[0m\u001b[0mself\u001b[0m\u001b[0;34m,\u001b[0m \u001b[0mrecord\u001b[0m\u001b[0;34m:\u001b[0m \u001b[0;34m\"pb.Record\"\u001b[0m\u001b[0;34m,\u001b[0m \u001b[0mlocal\u001b[0m\u001b[0;34m:\u001b[0m \u001b[0mbool\u001b[0m \u001b[0;34m=\u001b[0m \u001b[0;32mNone\u001b[0m\u001b[0;34m)\u001b[0m \u001b[0;34m->\u001b[0m \u001b[0;32mNone\u001b[0m\u001b[0;34m:\u001b[0m\u001b[0;34m\u001b[0m\u001b[0;34m\u001b[0m\u001b[0m\n\u001b[1;32m     48\u001b[0m         \u001b[0;32mif\u001b[0m \u001b[0mself\u001b[0m\u001b[0;34m.\u001b[0m\u001b[0m_process_check\u001b[0m \u001b[0;32mand\u001b[0m \u001b[0mself\u001b[0m\u001b[0;34m.\u001b[0m\u001b[0m_process\u001b[0m \u001b[0;32mand\u001b[0m \u001b[0;32mnot\u001b[0m \u001b[0mself\u001b[0m\u001b[0;34m.\u001b[0m\u001b[0m_process\u001b[0m\u001b[0;34m.\u001b[0m\u001b[0mis_alive\u001b[0m\u001b[0;34m(\u001b[0m\u001b[0;34m)\u001b[0m\u001b[0;34m:\u001b[0m\u001b[0;34m\u001b[0m\u001b[0;34m\u001b[0m\u001b[0m\n\u001b[0;32m---> 49\u001b[0;31m             \u001b[0;32mraise\u001b[0m \u001b[0mException\u001b[0m\u001b[0;34m(\u001b[0m\u001b[0;34m\"The wandb backend process has shutdown\"\u001b[0m\u001b[0;34m)\u001b[0m\u001b[0;34m\u001b[0m\u001b[0;34m\u001b[0m\u001b[0m\n\u001b[0m\u001b[1;32m     50\u001b[0m         \u001b[0;32mif\u001b[0m \u001b[0mlocal\u001b[0m\u001b[0;34m:\u001b[0m\u001b[0;34m\u001b[0m\u001b[0;34m\u001b[0m\u001b[0m\n\u001b[1;32m     51\u001b[0m             \u001b[0mrecord\u001b[0m\u001b[0;34m.\u001b[0m\u001b[0mcontrol\u001b[0m\u001b[0;34m.\u001b[0m\u001b[0mlocal\u001b[0m \u001b[0;34m=\u001b[0m \u001b[0mlocal\u001b[0m\u001b[0;34m\u001b[0m\u001b[0;34m\u001b[0m\u001b[0m\n",
            "\u001b[0;31mException\u001b[0m: The wandb backend process has shutdown"
          ]
        },
        {
          "name": "stderr",
          "output_type": "stream",
          "text": [
            "\u001b[34m\u001b[1mwandb\u001b[0m: \u001b[33mWARNING\u001b[0m Calling wandb.login() after wandb.init() has no effect.\n",
            "\u001b[34m\u001b[1mwandb\u001b[0m: Agent Starting Run: igi60nsy with config:\n",
            "\u001b[34m\u001b[1mwandb\u001b[0m: \tactivation: sig\n",
            "\u001b[34m\u001b[1mwandb\u001b[0m: \tbatchsize: 16\n",
            "\u001b[34m\u001b[1mwandb\u001b[0m: \tepochs: 20\n",
            "\u001b[34m\u001b[1mwandb\u001b[0m: \thidden_layer_size: 10\n",
            "\u001b[34m\u001b[1mwandb\u001b[0m: \tlossfun: mse\n",
            "\u001b[34m\u001b[1mwandb\u001b[0m: \tlr: 0.00075\n",
            "\u001b[34m\u001b[1mwandb\u001b[0m: \tnum_hidden_layers: 5\n",
            "\u001b[34m\u001b[1mwandb\u001b[0m: \toptimizer: nesterov\n",
            "\u001b[34m\u001b[1mwandb\u001b[0m: \tweightDecay: 0.0005\n",
            "\u001b[34m\u001b[1mwandb\u001b[0m: \tweights_initializer: Xavier\n"
          ]
        },
        {
          "name": "stdout",
          "output_type": "stream",
          "text": [
            "Problem at: <ipython-input-107-34c4f1b2d731> 17 train\n"
          ]
        },
        {
          "name": "stderr",
          "output_type": "stream",
          "text": [
            "Traceback (most recent call last):\n",
            "  File \"/usr/local/lib/python3.7/dist-packages/wandb/sdk/wandb_init.py\", line 951, in init\n",
            "    run = wi.init()\n",
            "  File \"/usr/local/lib/python3.7/dist-packages/wandb/sdk/wandb_init.py\", line 631, in init\n",
            "    self._wl._global_run_stack.append(run)\n",
            "  File \"/usr/local/lib/python3.7/dist-packages/wandb/sdk/wandb_setup.py\", line 281, in __getattr__\n",
            "    return getattr(self._instance, name)\n",
            "AttributeError: 'NoneType' object has no attribute '_global_run_stack'\n",
            "\u001b[34m\u001b[1mwandb\u001b[0m: \u001b[32m\u001b[41mERROR\u001b[0m Abnormal program exit\n"
          ]
        },
        {
          "data": {
            "text/html": [
              "\n",
              "                    Syncing run <strong><a href=\"https://wandb.ai/pratap101/assign/runs/igi60nsy\" target=\"_blank\">silvery-sweep-7</a></strong> to <a href=\"https://wandb.ai/pratap101/assign\" target=\"_blank\">Weights & Biases</a> (<a href=\"https://docs.wandb.com/integrations/jupyter.html\" target=\"_blank\">docs</a>).<br/>\n",
              "Sweep page: <a href=\"https://wandb.ai/pratap101/assign/sweeps/lgmwv1x9\" target=\"_blank\">https://wandb.ai/pratap101/assign/sweeps/lgmwv1x9</a><br/>\n",
              "\n",
              "                "
            ],
            "text/plain": [
              "<IPython.core.display.HTML object>"
            ]
          },
          "metadata": {},
          "output_type": "display_data"
        },
        {
          "name": "stderr",
          "output_type": "stream",
          "text": [
            "\u001b[34m\u001b[1mwandb\u001b[0m: Ctrl + C detected. Stopping sweep.\n"
          ]
        },
        {
          "name": "stdout",
          "output_type": "stream",
          "text": [
            "Error in callback <bound method _WandbInit._pause_backend of <wandb.sdk.wandb_init._WandbInit object at 0x7f4b7061a410>> (for post_run_cell):\n"
          ]
        },
        {
          "ename": "Exception",
          "evalue": "ignored",
          "output_type": "error",
          "traceback": [
            "\u001b[0;31m---------------------------------------------------------------------------\u001b[0m",
            "\u001b[0;31mException\u001b[0m                                 Traceback (most recent call last)",
            "\u001b[0;32m/usr/local/lib/python3.7/dist-packages/wandb/sdk/wandb_init.py\u001b[0m in \u001b[0;36m_pause_backend\u001b[0;34m(self)\u001b[0m\n\u001b[1;32m    302\u001b[0m                 \u001b[0mres\u001b[0m \u001b[0;34m=\u001b[0m \u001b[0mself\u001b[0m\u001b[0;34m.\u001b[0m\u001b[0mrun\u001b[0m\u001b[0;34m.\u001b[0m\u001b[0mlog_code\u001b[0m\u001b[0;34m(\u001b[0m\u001b[0mroot\u001b[0m\u001b[0;34m=\u001b[0m\u001b[0;32mNone\u001b[0m\u001b[0;34m)\u001b[0m\u001b[0;34m\u001b[0m\u001b[0;34m\u001b[0m\u001b[0m\n\u001b[1;32m    303\u001b[0m                 \u001b[0mlogger\u001b[0m\u001b[0;34m.\u001b[0m\u001b[0minfo\u001b[0m\u001b[0;34m(\u001b[0m\u001b[0;34m\"saved code: %s\"\u001b[0m\u001b[0;34m,\u001b[0m \u001b[0mres\u001b[0m\u001b[0;34m)\u001b[0m\u001b[0;34m\u001b[0m\u001b[0;34m\u001b[0m\u001b[0m\n\u001b[0;32m--> 304\u001b[0;31m             \u001b[0mself\u001b[0m\u001b[0;34m.\u001b[0m\u001b[0mbackend\u001b[0m\u001b[0;34m.\u001b[0m\u001b[0minterface\u001b[0m\u001b[0;34m.\u001b[0m\u001b[0mpublish_pause\u001b[0m\u001b[0;34m(\u001b[0m\u001b[0;34m)\u001b[0m\u001b[0;34m\u001b[0m\u001b[0;34m\u001b[0m\u001b[0m\n\u001b[0m\u001b[1;32m    305\u001b[0m \u001b[0;34m\u001b[0m\u001b[0m\n\u001b[1;32m    306\u001b[0m     \u001b[0;32mdef\u001b[0m \u001b[0m_resume_backend\u001b[0m\u001b[0;34m(\u001b[0m\u001b[0mself\u001b[0m\u001b[0;34m)\u001b[0m\u001b[0;34m:\u001b[0m\u001b[0;34m\u001b[0m\u001b[0;34m\u001b[0m\u001b[0m\n",
            "\u001b[0;32m/usr/local/lib/python3.7/dist-packages/wandb/sdk/interface/interface.py\u001b[0m in \u001b[0;36mpublish_pause\u001b[0;34m(self)\u001b[0m\n\u001b[1;32m    540\u001b[0m     \u001b[0;32mdef\u001b[0m \u001b[0mpublish_pause\u001b[0m\u001b[0;34m(\u001b[0m\u001b[0mself\u001b[0m\u001b[0;34m)\u001b[0m \u001b[0;34m->\u001b[0m \u001b[0;32mNone\u001b[0m\u001b[0;34m:\u001b[0m\u001b[0;34m\u001b[0m\u001b[0;34m\u001b[0m\u001b[0m\n\u001b[1;32m    541\u001b[0m         \u001b[0mpause\u001b[0m \u001b[0;34m=\u001b[0m \u001b[0mpb\u001b[0m\u001b[0;34m.\u001b[0m\u001b[0mPauseRequest\u001b[0m\u001b[0;34m(\u001b[0m\u001b[0;34m)\u001b[0m\u001b[0;34m\u001b[0m\u001b[0;34m\u001b[0m\u001b[0m\n\u001b[0;32m--> 542\u001b[0;31m         \u001b[0mself\u001b[0m\u001b[0;34m.\u001b[0m\u001b[0m_publish_pause\u001b[0m\u001b[0;34m(\u001b[0m\u001b[0mpause\u001b[0m\u001b[0;34m)\u001b[0m\u001b[0;34m\u001b[0m\u001b[0;34m\u001b[0m\u001b[0m\n\u001b[0m\u001b[1;32m    543\u001b[0m \u001b[0;34m\u001b[0m\u001b[0m\n\u001b[1;32m    544\u001b[0m     \u001b[0;34m@\u001b[0m\u001b[0mabstractmethod\u001b[0m\u001b[0;34m\u001b[0m\u001b[0;34m\u001b[0m\u001b[0m\n",
            "\u001b[0;32m/usr/local/lib/python3.7/dist-packages/wandb/sdk/interface/interface_shared.py\u001b[0m in \u001b[0;36m_publish_pause\u001b[0;34m(self, pause)\u001b[0m\n\u001b[1;32m    264\u001b[0m     \u001b[0;32mdef\u001b[0m \u001b[0m_publish_pause\u001b[0m\u001b[0;34m(\u001b[0m\u001b[0mself\u001b[0m\u001b[0;34m,\u001b[0m \u001b[0mpause\u001b[0m\u001b[0;34m:\u001b[0m \u001b[0mpb\u001b[0m\u001b[0;34m.\u001b[0m\u001b[0mPauseRequest\u001b[0m\u001b[0;34m)\u001b[0m \u001b[0;34m->\u001b[0m \u001b[0;32mNone\u001b[0m\u001b[0;34m:\u001b[0m\u001b[0;34m\u001b[0m\u001b[0;34m\u001b[0m\u001b[0m\n\u001b[1;32m    265\u001b[0m         \u001b[0mrec\u001b[0m \u001b[0;34m=\u001b[0m \u001b[0mself\u001b[0m\u001b[0;34m.\u001b[0m\u001b[0m_make_request\u001b[0m\u001b[0;34m(\u001b[0m\u001b[0mpause\u001b[0m\u001b[0;34m=\u001b[0m\u001b[0mpause\u001b[0m\u001b[0;34m)\u001b[0m\u001b[0;34m\u001b[0m\u001b[0;34m\u001b[0m\u001b[0m\n\u001b[0;32m--> 266\u001b[0;31m         \u001b[0mself\u001b[0m\u001b[0;34m.\u001b[0m\u001b[0m_publish\u001b[0m\u001b[0;34m(\u001b[0m\u001b[0mrec\u001b[0m\u001b[0;34m)\u001b[0m\u001b[0;34m\u001b[0m\u001b[0;34m\u001b[0m\u001b[0m\n\u001b[0m\u001b[1;32m    267\u001b[0m \u001b[0;34m\u001b[0m\u001b[0m\n\u001b[1;32m    268\u001b[0m     \u001b[0;32mdef\u001b[0m \u001b[0m_publish_resume\u001b[0m\u001b[0;34m(\u001b[0m\u001b[0mself\u001b[0m\u001b[0;34m,\u001b[0m \u001b[0mresume\u001b[0m\u001b[0;34m:\u001b[0m \u001b[0mpb\u001b[0m\u001b[0;34m.\u001b[0m\u001b[0mResumeRequest\u001b[0m\u001b[0;34m)\u001b[0m \u001b[0;34m->\u001b[0m \u001b[0;32mNone\u001b[0m\u001b[0;34m:\u001b[0m\u001b[0;34m\u001b[0m\u001b[0;34m\u001b[0m\u001b[0m\n",
            "\u001b[0;32m/usr/local/lib/python3.7/dist-packages/wandb/sdk/interface/interface_queue.py\u001b[0m in \u001b[0;36m_publish\u001b[0;34m(self, record, local)\u001b[0m\n\u001b[1;32m     47\u001b[0m     \u001b[0;32mdef\u001b[0m \u001b[0m_publish\u001b[0m\u001b[0;34m(\u001b[0m\u001b[0mself\u001b[0m\u001b[0;34m,\u001b[0m \u001b[0mrecord\u001b[0m\u001b[0;34m:\u001b[0m \u001b[0;34m\"pb.Record\"\u001b[0m\u001b[0;34m,\u001b[0m \u001b[0mlocal\u001b[0m\u001b[0;34m:\u001b[0m \u001b[0mbool\u001b[0m \u001b[0;34m=\u001b[0m \u001b[0;32mNone\u001b[0m\u001b[0;34m)\u001b[0m \u001b[0;34m->\u001b[0m \u001b[0;32mNone\u001b[0m\u001b[0;34m:\u001b[0m\u001b[0;34m\u001b[0m\u001b[0;34m\u001b[0m\u001b[0m\n\u001b[1;32m     48\u001b[0m         \u001b[0;32mif\u001b[0m \u001b[0mself\u001b[0m\u001b[0;34m.\u001b[0m\u001b[0m_process_check\u001b[0m \u001b[0;32mand\u001b[0m \u001b[0mself\u001b[0m\u001b[0;34m.\u001b[0m\u001b[0m_process\u001b[0m \u001b[0;32mand\u001b[0m \u001b[0;32mnot\u001b[0m \u001b[0mself\u001b[0m\u001b[0;34m.\u001b[0m\u001b[0m_process\u001b[0m\u001b[0;34m.\u001b[0m\u001b[0mis_alive\u001b[0m\u001b[0;34m(\u001b[0m\u001b[0;34m)\u001b[0m\u001b[0;34m:\u001b[0m\u001b[0;34m\u001b[0m\u001b[0;34m\u001b[0m\u001b[0m\n\u001b[0;32m---> 49\u001b[0;31m             \u001b[0;32mraise\u001b[0m \u001b[0mException\u001b[0m\u001b[0;34m(\u001b[0m\u001b[0;34m\"The wandb backend process has shutdown\"\u001b[0m\u001b[0;34m)\u001b[0m\u001b[0;34m\u001b[0m\u001b[0;34m\u001b[0m\u001b[0m\n\u001b[0m\u001b[1;32m     50\u001b[0m         \u001b[0;32mif\u001b[0m \u001b[0mlocal\u001b[0m\u001b[0;34m:\u001b[0m\u001b[0;34m\u001b[0m\u001b[0;34m\u001b[0m\u001b[0m\n\u001b[1;32m     51\u001b[0m             \u001b[0mrecord\u001b[0m\u001b[0;34m.\u001b[0m\u001b[0mcontrol\u001b[0m\u001b[0;34m.\u001b[0m\u001b[0mlocal\u001b[0m \u001b[0;34m=\u001b[0m \u001b[0mlocal\u001b[0m\u001b[0;34m\u001b[0m\u001b[0;34m\u001b[0m\u001b[0m\n",
            "\u001b[0;31mException\u001b[0m: The wandb backend process has shutdown"
          ]
        }
      ],
      "source": [
        "wandb.agent(sweep_id,train,project=\"assign\",count=50)\n"
      ]
    },
    {
      "cell_type": "code",
      "execution_count": null,
      "metadata": {
        "id": "XnfyT4lfyyJ5"
      },
      "outputs": [],
      "source": [
        ""
      ]
    },
    {
      "cell_type": "markdown",
      "metadata": {
        "id": "bTLljRLznVJj"
      },
      "source": [
        ""
      ]
    },
    {
      "cell_type": "markdown",
      "metadata": {
        "id": "-HGnH_qynVEg"
      },
      "source": [
        ""
      ]
    },
    {
      "cell_type": "markdown",
      "metadata": {
        "id": "MM4SX7_J-7-Q"
      },
      "source": [
        ""
      ]
    },
    {
      "cell_type": "code",
      "execution_count": null,
      "metadata": {
        "id": "c45MHUs_MgCE"
      },
      "outputs": [],
      "source": [
        ""
      ]
    },
    {
      "cell_type": "code",
      "execution_count": null,
      "metadata": {
        "id": "agX_aiKyzGQG"
      },
      "outputs": [],
      "source": [
        "def gradDecent(ftrx,ftry,N,nrl,epochs=10):\n",
        "  W,B=InitParams(nrl)\n",
        "  dw,db,da,dh=initgrads(N,nrl)\n",
        "  uw,ub=list(dw),list(db)\n",
        "  while(epochs>0):\n",
        "    epochs-=1\n",
        "    loss=0\n",
        "    for i in range(len(ftrx[:10000])):\n",
        "      pred_y,ai,hi=Feed_Frwd_Nw1(ftrx[i],N,nrl,W,B)\n",
        "      gw,gb,ga,gh=Back_Prop(ftrx[i],pred_y,ftry[i],ai,hi,W,N,nrl,dw,db,da,dh,B)\n",
        "      loss=loss+np.sum(ftry[i]*np.log(pred_y))\n",
        "      for j in range(len(gw)):\n",
        "        uw[j]=uw[j]+gw[j] \n",
        "        ub[j]=ub[j]+gb[j]\n",
        "      for p in range(len(gw)):\n",
        "        uw[p]/=10000 \n",
        "        ub[p]/=10000 \n",
        "    print(len(gw))\n",
        "    for k in range(len(gw)):\n",
        "      z1,z2=W[k],B[k]\n",
        "      W[k]=W[k]-0.1*uw[k]\n",
        "      B[k]=B[k]-0.1*(ub[k].ravel())\n",
        "      print(np.array_equal(W[k],z1),np.array_equal(B[k],z2))      \n",
        "    print(\"epoch----------\",epochs,\"------------loss=\",loss)\n",
        "  return hi,W,B"
      ]
    }
  ],
  "metadata": {
    "colab": {
      "collapsed_sections": [],
      "name": "Fn.ipynb",
      "provenance": [],
      "include_colab_link": true
    },
    "kernelspec": {
      "display_name": "Python 3",
      "name": "python3"
    },
    "widgets": {
      "application/vnd.jupyter.widget-state+json": {
        "076a5c189b7a49ff81632c92f9ee74c3": {
          "model_module": "@jupyter-widgets/base",
          "model_module_version": "1.2.0",
          "model_name": "LayoutModel",
          "state": {
            "_model_module": "@jupyter-widgets/base",
            "_model_module_version": "1.2.0",
            "_model_name": "LayoutModel",
            "_view_count": null,
            "_view_module": "@jupyter-widgets/base",
            "_view_module_version": "1.2.0",
            "_view_name": "LayoutView",
            "align_content": null,
            "align_items": null,
            "align_self": null,
            "border": null,
            "bottom": null,
            "display": null,
            "flex": null,
            "flex_flow": null,
            "grid_area": null,
            "grid_auto_columns": null,
            "grid_auto_flow": null,
            "grid_auto_rows": null,
            "grid_column": null,
            "grid_gap": null,
            "grid_row": null,
            "grid_template_areas": null,
            "grid_template_columns": null,
            "grid_template_rows": null,
            "height": null,
            "justify_content": null,
            "justify_items": null,
            "left": null,
            "margin": null,
            "max_height": null,
            "max_width": null,
            "min_height": null,
            "min_width": null,
            "object_fit": null,
            "object_position": null,
            "order": null,
            "overflow": null,
            "overflow_x": null,
            "overflow_y": null,
            "padding": null,
            "right": null,
            "top": null,
            "visibility": null,
            "width": null
          }
        },
        "0c6c1766d46241448b3cf876687d750b": {
          "model_module": "@jupyter-widgets/base",
          "model_module_version": "1.2.0",
          "model_name": "LayoutModel",
          "state": {
            "_model_module": "@jupyter-widgets/base",
            "_model_module_version": "1.2.0",
            "_model_name": "LayoutModel",
            "_view_count": null,
            "_view_module": "@jupyter-widgets/base",
            "_view_module_version": "1.2.0",
            "_view_name": "LayoutView",
            "align_content": null,
            "align_items": null,
            "align_self": null,
            "border": null,
            "bottom": null,
            "display": null,
            "flex": null,
            "flex_flow": null,
            "grid_area": null,
            "grid_auto_columns": null,
            "grid_auto_flow": null,
            "grid_auto_rows": null,
            "grid_column": null,
            "grid_gap": null,
            "grid_row": null,
            "grid_template_areas": null,
            "grid_template_columns": null,
            "grid_template_rows": null,
            "height": null,
            "justify_content": null,
            "justify_items": null,
            "left": null,
            "margin": null,
            "max_height": null,
            "max_width": null,
            "min_height": null,
            "min_width": null,
            "object_fit": null,
            "object_position": null,
            "order": null,
            "overflow": null,
            "overflow_x": null,
            "overflow_y": null,
            "padding": null,
            "right": null,
            "top": null,
            "visibility": null,
            "width": null
          }
        },
        "267dcc44bbbd4e4e8a669966476a8eac": {
          "model_module": "@jupyter-widgets/base",
          "model_module_version": "1.2.0",
          "model_name": "LayoutModel",
          "state": {
            "_model_module": "@jupyter-widgets/base",
            "_model_module_version": "1.2.0",
            "_model_name": "LayoutModel",
            "_view_count": null,
            "_view_module": "@jupyter-widgets/base",
            "_view_module_version": "1.2.0",
            "_view_name": "LayoutView",
            "align_content": null,
            "align_items": null,
            "align_self": null,
            "border": null,
            "bottom": null,
            "display": null,
            "flex": null,
            "flex_flow": null,
            "grid_area": null,
            "grid_auto_columns": null,
            "grid_auto_flow": null,
            "grid_auto_rows": null,
            "grid_column": null,
            "grid_gap": null,
            "grid_row": null,
            "grid_template_areas": null,
            "grid_template_columns": null,
            "grid_template_rows": null,
            "height": null,
            "justify_content": null,
            "justify_items": null,
            "left": null,
            "margin": null,
            "max_height": null,
            "max_width": null,
            "min_height": null,
            "min_width": null,
            "object_fit": null,
            "object_position": null,
            "order": null,
            "overflow": null,
            "overflow_x": null,
            "overflow_y": null,
            "padding": null,
            "right": null,
            "top": null,
            "visibility": null,
            "width": null
          }
        },
        "42eedcbff7c7462b98ab3f68c12148b2": {
          "model_module": "@jupyter-widgets/controls",
          "model_module_version": "1.5.0",
          "model_name": "VBoxModel",
          "state": {
            "_dom_classes": [],
            "_model_module": "@jupyter-widgets/controls",
            "_model_module_version": "1.5.0",
            "_model_name": "VBoxModel",
            "_view_count": null,
            "_view_module": "@jupyter-widgets/controls",
            "_view_module_version": "1.5.0",
            "_view_name": "VBoxView",
            "box_style": "",
            "children": [
              "IPY_MODEL_5d0d9003a68644ada322c030228d38f0",
              "IPY_MODEL_69321c6beab34173ad353a3051bd9382"
            ],
            "layout": "IPY_MODEL_0c6c1766d46241448b3cf876687d750b"
          }
        },
        "5d0d9003a68644ada322c030228d38f0": {
          "model_module": "@jupyter-widgets/controls",
          "model_module_version": "1.5.0",
          "model_name": "LabelModel",
          "state": {
            "_dom_classes": [],
            "_model_module": "@jupyter-widgets/controls",
            "_model_module_version": "1.5.0",
            "_model_name": "LabelModel",
            "_view_count": null,
            "_view_module": "@jupyter-widgets/controls",
            "_view_module_version": "1.5.0",
            "_view_name": "LabelView",
            "description": "",
            "description_tooltip": null,
            "layout": "IPY_MODEL_267dcc44bbbd4e4e8a669966476a8eac",
            "placeholder": "​",
            "style": "IPY_MODEL_e9b5916a783c41b8aab19e7f4b0c9746",
            "value": " 0.00MB of 0.00MB uploaded (0.00MB deduped)\r"
          }
        },
        "69321c6beab34173ad353a3051bd9382": {
          "model_module": "@jupyter-widgets/controls",
          "model_module_version": "1.5.0",
          "model_name": "FloatProgressModel",
          "state": {
            "_dom_classes": [],
            "_model_module": "@jupyter-widgets/controls",
            "_model_module_version": "1.5.0",
            "_model_name": "FloatProgressModel",
            "_view_count": null,
            "_view_module": "@jupyter-widgets/controls",
            "_view_module_version": "1.5.0",
            "_view_name": "ProgressView",
            "bar_style": "",
            "description": "",
            "description_tooltip": null,
            "layout": "IPY_MODEL_076a5c189b7a49ff81632c92f9ee74c3",
            "max": 1,
            "min": 0,
            "orientation": "horizontal",
            "style": "IPY_MODEL_72c1c37d09364ff59ed55cbba35b2f4a",
            "value": 1
          }
        },
        "72c1c37d09364ff59ed55cbba35b2f4a": {
          "model_module": "@jupyter-widgets/controls",
          "model_module_version": "1.5.0",
          "model_name": "ProgressStyleModel",
          "state": {
            "_model_module": "@jupyter-widgets/controls",
            "_model_module_version": "1.5.0",
            "_model_name": "ProgressStyleModel",
            "_view_count": null,
            "_view_module": "@jupyter-widgets/base",
            "_view_module_version": "1.2.0",
            "_view_name": "StyleView",
            "bar_color": null,
            "description_width": ""
          }
        },
        "e9b5916a783c41b8aab19e7f4b0c9746": {
          "model_module": "@jupyter-widgets/controls",
          "model_module_version": "1.5.0",
          "model_name": "DescriptionStyleModel",
          "state": {
            "_model_module": "@jupyter-widgets/controls",
            "_model_module_version": "1.5.0",
            "_model_name": "DescriptionStyleModel",
            "_view_count": null,
            "_view_module": "@jupyter-widgets/base",
            "_view_module_version": "1.2.0",
            "_view_name": "StyleView",
            "description_width": ""
          }
        }
      }
    }
  },
  "nbformat": 4,
  "nbformat_minor": 0
}