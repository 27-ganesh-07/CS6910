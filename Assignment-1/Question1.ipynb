{
  "nbformat": 4,
  "nbformat_minor": 0,
  "metadata": {
    "colab": {
      "name": "Question 1.ipynb",
      "provenance": [],
      "authorship_tag": "ABX9TyPCOL4l/MxLvqCKyZtMdsqi",
      "include_colab_link": true
    },
    "kernelspec": {
      "name": "python3",
      "display_name": "Python 3"
    },
    "language_info": {
      "name": "python"
    }
  },
  "cells": [
    {
      "cell_type": "markdown",
      "metadata": {
        "id": "view-in-github",
        "colab_type": "text"
      },
      "source": [
        "<a href=\"https://colab.research.google.com/github/pratap977/CS6910/blob/main/Assignment-1/Question1.ipynb\" target=\"_parent\"><img src=\"https://colab.research.google.com/assets/colab-badge.svg\" alt=\"Open In Colab\"/></a>"
      ]
    },
    {
      "cell_type": "code",
      "source": [
        "!pip install wandb"
      ],
      "metadata": {
        "id": "LmJ1b4awO4UT"
      },
      "execution_count": null,
      "outputs": []
    },
    {
      "cell_type": "code",
      "execution_count": null,
      "metadata": {
        "id": "fPrncR3VOcoP"
      },
      "outputs": [],
      "source": [
        "from keras.datasets import fashion_mnist\n",
        "import numpy as np\n",
        "from  matplotlib import pyplot as plt\n",
        "import time\n",
        "import math\n",
        "import wandb\n",
        "wandb.login()"
      ]
    },
    {
      "cell_type": "code",
      "source": [
        "((xtrain, ytrain), (xtest, ytest)) = fashion_mnist.load_data()\n",
        "items=[\"T-shirt/top\", \"Trouser\",\"Pullover\", \"Dress\", \"Coat\", \"Sandal\", \"Shirt\", \"Sneaker\", \"Bag\",\"Ankle boot\"]"
      ],
      "metadata": {
        "id": "6G8ZVDmHO7AZ"
      },
      "execution_count": null,
      "outputs": []
    },
    {
      "cell_type": "code",
      "source": [
        "wandb.init(project=\"assignment1\")\n",
        "ig=[]\n",
        "for i in range(10):\n",
        "  for j in range(len(ytrain)):\n",
        "    if ytrain[j]==i:\n",
        "      ig.append(xtrain[j])\n",
        "      break;\n",
        "\n",
        "for i in range(len(ig)):\n",
        "  plt.subplot(2,5,i+1)\n",
        "  plt.imshow(ig[i])\n",
        "  plt.title(items[i])\n",
        "wand.run.name(\"Question-1\")\n",
        "wandb.log({\"imagess\":[wandb.Image(img,caption=item) for img,item in zip(ig,items)]})\n",
        "# print(items[i])\n",
        "#plt.show()\n",
        "# wandb.finish()"
      ],
      "metadata": {
        "id": "MfaWkwhOPIXp"
      },
      "execution_count": null,
      "outputs": []
    }
  ]
}